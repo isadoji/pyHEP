{
 "cells": [
  {
   "cell_type": "code",
   "execution_count": 4,
   "metadata": {},
   "outputs": [],
   "source": [
    "# conda install uproot awkward numpay matplotlib\n",
    "import numpy as np\n",
    "import matplotlib.pylab as plt\n",
    "\n",
    "import uproot\n",
    "import awkward as ak"
   ]
  },
  {
   "cell_type": "code",
   "execution_count": 5,
   "metadata": {},
   "outputs": [
    {
     "data": {
      "text/plain": [
       "['run;1', 'events;1']"
      ]
     },
     "execution_count": 5,
     "metadata": {},
     "output_type": "execute_result"
    }
   ],
   "source": [
    "#infile_name = 'root://eospublic.cern.ch//eos/opendata/cms/derived-data/AOD2NanoAODOutreachTool/ForHiggsTo4Leptons/SMHiggsToZZTo4L.root'\n",
    "#infile = uproot.open(infile_name)\n",
    "infile= uproot.open(\"test.f13.root\")\n",
    "keys = infile.keys()\n",
    "keys"
   ]
  },
  {
   "cell_type": "code",
   "execution_count": 6,
   "metadata": {},
   "outputs": [
    {
     "name": "stdout",
     "output_type": "stream",
     "text": [
      "name                 | typename                 | interpretation                \n",
      "---------------------+--------------------------+-------------------------------\n",
      "event                | UEvent                   | AsGroup(<TBranchElement 'ev...\n",
      "event/TObject        | (group of fUniqueID:u... | AsGroup(<TBranchElement 'TO...\n",
      "event/TObject/fUn... | uint32_t                 | AsDtype('>u4')\n",
      "event/TObject/fBits  | uint32_t                 | AsDtype('>u4')\n",
      "event/fEventNr       | int32_t                  | AsDtype('>i4')\n",
      "event/fB             | double                   | AsDtype('>f8')\n",
      "event/fPhi           | double                   | AsDtype('>f8')\n",
      "event/fNes           | int32_t                  | AsDtype('>i4')\n",
      "event/fStepNr        | int32_t                  | AsDtype('>i4')\n",
      "event/fStepT         | double                   | AsDtype('>f8')\n",
      "event/fNpa           | int32_t                  | AsDtype('>i4')\n",
      "event/fComment       | TString                  | AsStrings()\n",
      "event/fParticles     | TClonesArray*            | AsGroup(<TBranchElement 'fP...\n",
      "event/fParticles/... | uint32_t[]               | AsJagged(AsDtype('>u4'))\n",
      "event/fParticles/... | uint32_t[]               | AsJagged(AsDtype('>u4'))\n",
      "event/fParticles/... | int32_t[]                | AsJagged(AsDtype('>i4'))\n",
      "event/fParticles/... | int32_t[]                | AsJagged(AsDtype('>i4'))\n",
      "event/fParticles/... | int32_t[]                | AsJagged(AsDtype('>i4'))\n",
      "event/fParticles/... | int32_t[]                | AsJagged(AsDtype('>i4'))\n",
      "event/fParticles/... | int32_t[]                | AsJagged(AsDtype('>i4'))\n",
      "event/fParticles/... | int32_t[]                | AsJagged(AsDtype('>i4'))\n",
      "event/fParticles/... | int32_t[]                | AsJagged(AsDtype('>i4'))\n",
      "event/fParticles/... | int32_t[][2]             | AsJagged(AsDtype(\"('>i4', (...\n",
      "event/fParticles/... | float[]                  | AsJagged(AsDtype('>f4', 'fl...\n",
      "event/fParticles/... | float[]                  | AsJagged(AsDtype('>f4', 'fl...\n",
      "event/fParticles/... | float[]                  | AsJagged(AsDtype('>f4', 'fl...\n",
      "event/fParticles/... | float[]                  | AsJagged(AsDtype('>f4', 'fl...\n",
      "event/fParticles/... | float[]                  | AsJagged(AsDtype('>f4', 'fl...\n",
      "event/fParticles/... | float[]                  | AsJagged(AsDtype('>f4', 'fl...\n",
      "event/fParticles/... | float[]                  | AsJagged(AsDtype('>f4', 'fl...\n",
      "event/fParticles/... | float[]                  | AsJagged(AsDtype('>f4', 'fl...\n",
      "event/fParticles/... | float[]                  | AsJagged(AsDtype('>f4', 'fl...\n"
     ]
    }
   ],
   "source": [
    "events = infile['events']\n",
    "events.show()"
   ]
  },
  {
   "cell_type": "code",
   "execution_count": 7,
   "metadata": {},
   "outputs": [
    {
     "data": {
      "text/plain": [
       "['fParticles.fUniqueID',\n",
       " 'fParticles.fBits',\n",
       " 'fParticles.fIndex',\n",
       " 'fParticles.fPdg',\n",
       " 'fParticles.fStatus',\n",
       " 'fParticles.fParent',\n",
       " 'fParticles.fParentDecay',\n",
       " 'fParticles.fMate',\n",
       " 'fParticles.fDecay',\n",
       " 'fParticles.fChild[2]',\n",
       " 'fParticles.fPx',\n",
       " 'fParticles.fPy',\n",
       " 'fParticles.fPz',\n",
       " 'fParticles.fE',\n",
       " 'fParticles.fX',\n",
       " 'fParticles.fY',\n",
       " 'fParticles.fZ',\n",
       " 'fParticles.fT',\n",
       " 'fParticles.fWeight']"
      ]
     },
     "execution_count": 7,
     "metadata": {},
     "output_type": "execute_result"
    }
   ],
   "source": [
    "tree = infile['events/fParticles']\n",
    "tree.keys()"
   ]
  },
  {
   "cell_type": "code",
   "execution_count": 8,
   "metadata": {},
   "outputs": [
    {
     "data": {
      "text/plain": [
       "1"
      ]
     },
     "execution_count": 8,
     "metadata": {},
     "output_type": "execute_result"
    }
   ],
   "source": [
    "branches = tree.arrays()\n",
    "len(branches)"
   ]
  },
  {
   "cell_type": "code",
   "execution_count": 9,
   "metadata": {},
   "outputs": [
    {
     "name": "stdout",
     "output_type": "stream",
     "text": [
      "[[1.08, 1.39, -0.207, 1.87, 0.148, ..., -0.505, -0.358, -0.121, -0.273, 0.225]]\n"
     ]
    }
   ],
   "source": [
    "px = tree['fParticles.fPx']\n",
    "print(px.array())\n"
   ]
  },
  {
   "cell_type": "code",
   "execution_count": 10,
   "metadata": {},
   "outputs": [
    {
     "data": {
      "text/plain": [
       "Text(0.5, 0, 'Muon $p_x$ (GeV/c)')"
      ]
     },
     "execution_count": 10,
     "metadata": {},
     "output_type": "execute_result"
    },
    {
     "data": {
      "image/png": "[encoded data removed]",
      "text/plain": [
       "<Figure size 640x480 with 1 Axes>"
      ]
     },
     "metadata": {},
     "output_type": "display_data"
    }
   ],
   "source": [
    "\n",
    "plt.figure()\n",
    "plt.hist(ak.flatten(px.array()),bins=100,range=(0,100));\n",
    "plt.xlabel(r'Muon $p_x$ (GeV/c)',fontsize=14)"
   ]
  },
  {
   "cell_type": "code",
   "execution_count": 11,
   "metadata": {},
   "outputs": [
    {
     "data": {
      "text/html": [
       "<pre>[1.12,\n",
       " 1.88,\n",
       " 0.158,\n",
       " 1.81,\n",
       " 0.658,\n",
       " 0.843,\n",
       " 0.956,\n",
       " 1.76,\n",
       " 0.82,\n",
       " 0.842,\n",
       " ...,\n",
       " 0.809,\n",
       " 0.852,\n",
       " 0.358,\n",
       " 1.3,\n",
       " 1.31,\n",
       " 1.8,\n",
       " 0.861,\n",
       " 0.545,\n",
       " 1.3]\n",
       "-------------------\n",
       "type: 216 * float64</pre>"
      ],
      "text/plain": [
       "<Array [1.12, 1.88, 0.158, 1.81, ..., 0.861, 0.545, 1.3] type='216 * float64'>"
      ]
     },
     "execution_count": 11,
     "metadata": {},
     "output_type": "execute_result"
    }
   ],
   "source": [
    "p = np.sqrt((branches['fParticles.fPx']*branches['fParticles.fPx']) + (branches['fParticles.fPy']*branches['fParticles.fPy']) + (branches['fParticles.fPz']*branches['fParticles.fPz']))\n",
    "pt = np.sqrt((branches['fParticles.fPx']*branches['fParticles.fPx']) + (branches['fParticles.fPy']*branches['fParticles.fPy']))\n",
    "eta = 0.5*np.log((p+branches['fParticles.fPx'])/(p-branches['fParticles.fPx']))\n",
    "proton = branches['fParticles.fPdg'] == 2212\n",
    "pion = branches['fParticles.fPdg'] == 211\n",
    "kaon = branches['fParticles.fPdg'] == 321\n",
    "\n",
    "ak.flatten(pt[proton])"
   ]
  },
  {
   "cell_type": "code",
   "execution_count": 12,
   "metadata": {},
   "outputs": [
    {
     "data": {
      "image/png": "[encoded data removed]",
      "text/plain": [
       "<Figure size 1500x500 with 2 Axes>"
      ]
     },
     "metadata": {},
     "output_type": "display_data"
    }
   ],
   "source": [
    "plt.figure(figsize=(15,5))\n",
    "plt.subplot(1,2,1)\n",
    "plt.hist(ak.flatten(pt[pion]), bins=100, range=(0, 10),label='p')\n",
    "plt.hist(ak.flatten(pt[proton]), bins=100, range=(0, 10),label='$\\pi^+$')\n",
    "plt.hist(ak.flatten(pt[kaon]), bins=100, range=(0, 10),label='$K^+$')\n",
    "plt.title('No selection')\n",
    "plt.xlabel('$p_T$ [GeV]')\n",
    "plt.ylabel('Entries')\n",
    "plt.yscale('log')\n",
    "plt.legend()\n",
    "plt.subplot(1,2,2)\n",
    "plt.hist(ak.flatten(eta[pion]))\n",
    "plt.hist(ak.flatten(eta[proton]))\n",
    "plt.hist(ak.flatten(eta[kaon]))\n",
    "plt.title('No selection')\n",
    "plt.xlabel('$\\eta$')\n",
    "plt.ylabel('Entries')\n",
    "plt.show()\n"
   ]
  },
  {
   "cell_type": "code",
   "execution_count": 13,
   "metadata": {},
   "outputs": [
    {
     "name": "stdout",
     "output_type": "stream",
     "text": [
      "Mean Transverse momentum pions: 0.4044525769955002\n",
      "Mean Transverse momentum protons: 0.8199095446354551\n",
      "Mean Transverse momentum kaons: 0.5648998518002651\n"
     ]
    }
   ],
   "source": [
    "print('Mean Transverse momentum pions:',np.mean(ak.flatten(pt[pion])))\n",
    "print('Mean Transverse momentum protons:',np.mean(ak.flatten(pt[proton])))\n",
    "print('Mean Transverse momentum kaons:',np.mean(ak.flatten(pt[kaon])))\n"
   ]
  }
 ],
 "metadata": {
  "kernelspec": {
   "display_name": "rootcern",
   "language": "python",
   "name": "python3"
  },
  "language_info": {
   "codemirror_mode": {
    "name": "ipython",
    "version": 3
   },
   "file_extension": ".py",
   "mimetype": "text/x-python",
   "name": "python",
   "nbconvert_exporter": "python",
   "pygments_lexer": "ipython3",
   "version": "3.11.0"
  },
  "orig_nbformat": 4,
  "vscode": {
   "interpreter": {
    "hash": "d53971e05361f6185e0828271bb75cde3e85dca873e9ae5de0adcdfb02840a91"
   }
  }
 },
 "nbformat": 4,
 "nbformat_minor": 2
}
