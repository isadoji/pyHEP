{
 "cells": [
  {
   "cell_type": "code",
   "execution_count": 12,
   "metadata": {},
   "outputs": [],
   "source": [
    "# conda install uproot awkward numpay matplotlib\n",
    "import numpy as np\n",
    "import matplotlib.pylab as plt\n",
    "\n",
    "import uproot\n",
    "import awkward as ak"
   ]
  },
  {
   "cell_type": "code",
   "execution_count": 13,
   "metadata": {},
   "outputs": [
    {
     "data": {
      "text/plain": [
       "['run;1', 'events;1']"
      ]
     },
     "execution_count": 13,
     "metadata": {},
     "output_type": "execute_result"
    }
   ],
   "source": [
    "#infile_name = 'root://eospublic.cern.ch//eos/opendata/cms/derived-data/AOD2NanoAODOutreachTool/ForHiggsTo4Leptons/SMHiggsToZZTo4L.root'\n",
    "#infile = uproot.open(infile_name)\n",
    "infile= uproot.open(\"test.f13.root\")\n",
    "#infile= uproot.open(\"test.f13.root:events\")\n",
    "\n",
    "infile.keys() # get a list of contents \n"
   ]
  },
  {
   "cell_type": "code",
   "execution_count": 14,
   "metadata": {},
   "outputs": [
    {
     "name": "stdout",
     "output_type": "stream",
     "text": [
      "name                 | typename                 | interpretation                \n",
      "---------------------+--------------------------+-------------------------------\n",
      "event                | UEvent                   | AsGroup(<TBranchElement 'ev...\n",
      "event/TObject        | (group of fUniqueID:u... | AsGroup(<TBranchElement 'TO...\n",
      "event/TObject/fUn... | uint32_t                 | AsDtype('>u4')\n",
      "event/TObject/fBits  | uint32_t                 | AsDtype('>u4')\n",
      "event/fEventNr       | int32_t                  | AsDtype('>i4')\n",
      "event/fB             | double                   | AsDtype('>f8')\n",
      "event/fPhi           | double                   | AsDtype('>f8')\n",
      "event/fNes           | int32_t                  | AsDtype('>i4')\n",
      "event/fStepNr        | int32_t                  | AsDtype('>i4')\n",
      "event/fStepT         | double                   | AsDtype('>f8')\n",
      "event/fNpa           | int32_t                  | AsDtype('>i4')\n",
      "event/fComment       | TString                  | AsStrings()\n",
      "event/fParticles     | TClonesArray*            | AsGroup(<TBranchElement 'fP...\n",
      "event/fParticles/... | uint32_t[]               | AsJagged(AsDtype('>u4'))\n",
      "event/fParticles/... | uint32_t[]               | AsJagged(AsDtype('>u4'))\n",
      "event/fParticles/... | int32_t[]                | AsJagged(AsDtype('>i4'))\n",
      "event/fParticles/... | int32_t[]                | AsJagged(AsDtype('>i4'))\n",
      "event/fParticles/... | int32_t[]                | AsJagged(AsDtype('>i4'))\n",
      "event/fParticles/... | int32_t[]                | AsJagged(AsDtype('>i4'))\n",
      "event/fParticles/... | int32_t[]                | AsJagged(AsDtype('>i4'))\n",
      "event/fParticles/... | int32_t[]                | AsJagged(AsDtype('>i4'))\n",
      "event/fParticles/... | int32_t[]                | AsJagged(AsDtype('>i4'))\n",
      "event/fParticles/... | int32_t[][2]             | AsJagged(AsDtype(\"('>i4', (...\n",
      "event/fParticles/... | float[]                  | AsJagged(AsDtype('>f4', 'fl...\n",
      "event/fParticles/... | float[]                  | AsJagged(AsDtype('>f4', 'fl...\n",
      "event/fParticles/... | float[]                  | AsJagged(AsDtype('>f4', 'fl...\n",
      "event/fParticles/... | float[]                  | AsJagged(AsDtype('>f4', 'fl...\n",
      "event/fParticles/... | float[]                  | AsJagged(AsDtype('>f4', 'fl...\n",
      "event/fParticles/... | float[]                  | AsJagged(AsDtype('>f4', 'fl...\n",
      "event/fParticles/... | float[]                  | AsJagged(AsDtype('>f4', 'fl...\n",
      "event/fParticles/... | float[]                  | AsJagged(AsDtype('>f4', 'fl...\n",
      "event/fParticles/... | float[]                  | AsJagged(AsDtype('>f4', 'fl...\n"
     ]
    }
   ],
   "source": [
    "events = infile['events']\n",
    "events.show()"
   ]
  },
  {
   "cell_type": "code",
   "execution_count": 15,
   "metadata": {},
   "outputs": [
    {
     "data": {
      "text/plain": [
       "['fParticles.fUniqueID',\n",
       " 'fParticles.fBits',\n",
       " 'fParticles.fIndex',\n",
       " 'fParticles.fPdg',\n",
       " 'fParticles.fStatus',\n",
       " 'fParticles.fParent',\n",
       " 'fParticles.fParentDecay',\n",
       " 'fParticles.fMate',\n",
       " 'fParticles.fDecay',\n",
       " 'fParticles.fChild[2]',\n",
       " 'fParticles.fPx',\n",
       " 'fParticles.fPy',\n",
       " 'fParticles.fPz',\n",
       " 'fParticles.fE',\n",
       " 'fParticles.fX',\n",
       " 'fParticles.fY',\n",
       " 'fParticles.fZ',\n",
       " 'fParticles.fT',\n",
       " 'fParticles.fWeight']"
      ]
     },
     "execution_count": 15,
     "metadata": {},
     "output_type": "execute_result"
    }
   ],
   "source": [
    "tree = infile['events/fParticles']\n",
    "tree.keys()"
   ]
  },
  {
   "cell_type": "code",
   "execution_count": 16,
   "metadata": {},
   "outputs": [
    {
     "data": {
      "text/plain": [
       "1"
      ]
     },
     "execution_count": 16,
     "metadata": {},
     "output_type": "execute_result"
    }
   ],
   "source": [
    "branches = tree.arrays()\n",
    "len(branches)"
   ]
  },
  {
   "cell_type": "code",
   "execution_count": 17,
   "metadata": {},
   "outputs": [
    {
     "name": "stdout",
     "output_type": "stream",
     "text": [
      "[[1.08, 1.39, -0.207, 1.87, 0.148, ..., -0.505, -0.358, -0.121, -0.273, 0.225]]\n"
     ]
    }
   ],
   "source": [
    "px = tree['fParticles.fPx']\n",
    "print(px.array())\n"
   ]
  },
  {
   "cell_type": "code",
   "execution_count": 18,
   "metadata": {},
   "outputs": [
    {
     "data": {
      "text/plain": [
       "Text(0.5, 0, '$p_x$ (GeV/c)')"
      ]
     },
     "execution_count": 18,
     "metadata": {},
     "output_type": "execute_result"
    },
    {
     "data": {
      "image/png": "[encoded data removed]",
      "text/plain": [
       "<Figure size 640x480 with 1 Axes>"
      ]
     },
     "metadata": {},
     "output_type": "display_data"
    }
   ],
   "source": [
    "\n",
    "plt.figure()\n",
    "plt.hist(ak.flatten(px.array()),bins=100,range=(0,100));\n",
    "plt.xlabel(r'$p_x$ (GeV/c)',fontsize=14)"
   ]
  },
  {
   "cell_type": "code",
   "execution_count": 20,
   "metadata": {},
   "outputs": [
    {
     "ename": "IndexError",
     "evalue": "cannot slice ListOffsetArray (of length 1) with 9",
     "output_type": "error",
     "traceback": [
      "\u001b[0;31m---------------------------------------------------------------------------\u001b[0m",
      "\u001b[0;31mIndexError\u001b[0m                                Traceback (most recent call last)",
      "Cell \u001b[0;32mIn[20], line 1\u001b[0m\n\u001b[0;32m----> 1\u001b[0m branches[\u001b[39m'\u001b[39;49m\u001b[39mfParticles.fPz\u001b[39;49m\u001b[39m'\u001b[39;49m][\u001b[39m9\u001b[39;49m] \u001b[39m# solo un evento\u001b[39;00m\n\u001b[1;32m      2\u001b[0m \u001b[39mlen\u001b[39m(ak\u001b[39m.\u001b[39mflatten(branches[\u001b[39m'\u001b[39m\u001b[39mfParticles.fPz\u001b[39m\u001b[39m'\u001b[39m]))\n",
      "File \u001b[0;32m~/Storage/Software/miniconda3/envs/rootcern/lib/python3.11/site-packages/awkward/highlevel.py:950\u001b[0m, in \u001b[0;36mArray.__getitem__\u001b[0;34m(self, where)\u001b[0m\n\u001b[1;32m    521\u001b[0m \u001b[39m\u001b[39m\u001b[39m\"\"\"\u001b[39;00m\n\u001b[1;32m    522\u001b[0m \u001b[39mArgs:\u001b[39;00m\n\u001b[1;32m    523\u001b[0m \u001b[39m    where (many types supported; see below): Index of positions to\u001b[39;00m\n\u001b[0;32m   (...)\u001b[0m\n\u001b[1;32m    947\u001b[0m \u001b[39mhave the same dimension as the array being indexed.\u001b[39;00m\n\u001b[1;32m    948\u001b[0m \u001b[39m\"\"\"\u001b[39;00m\n\u001b[1;32m    949\u001b[0m \u001b[39mwith\u001b[39;00m ak\u001b[39m.\u001b[39m_errors\u001b[39m.\u001b[39mSlicingErrorContext(\u001b[39mself\u001b[39m, where):\n\u001b[0;32m--> 950\u001b[0m     out \u001b[39m=\u001b[39m \u001b[39mself\u001b[39;49m\u001b[39m.\u001b[39;49m_layout[where]\n\u001b[1;32m    951\u001b[0m     \u001b[39mif\u001b[39;00m \u001b[39misinstance\u001b[39m(out, ak\u001b[39m.\u001b[39mcontents\u001b[39m.\u001b[39mNumpyArray):\n\u001b[1;32m    952\u001b[0m         array_param \u001b[39m=\u001b[39m out\u001b[39m.\u001b[39mparameter(\u001b[39m\"\u001b[39m\u001b[39m__array__\u001b[39m\u001b[39m\"\u001b[39m)\n",
      "File \u001b[0;32m~/Storage/Software/miniconda3/envs/rootcern/lib/python3.11/site-packages/awkward/contents/content.py:510\u001b[0m, in \u001b[0;36mContent.__getitem__\u001b[0;34m(self, where)\u001b[0m\n\u001b[1;32m    509\u001b[0m \u001b[39mdef\u001b[39;00m \u001b[39m__getitem__\u001b[39m(\u001b[39mself\u001b[39m, where):\n\u001b[0;32m--> 510\u001b[0m     \u001b[39mreturn\u001b[39;00m \u001b[39mself\u001b[39;49m\u001b[39m.\u001b[39;49m_getitem(where)\n",
      "File \u001b[0;32m~/Storage/Software/miniconda3/envs/rootcern/lib/python3.11/site-packages/awkward/contents/content.py:514\u001b[0m, in \u001b[0;36mContent._getitem\u001b[0;34m(self, where)\u001b[0m\n\u001b[1;32m    512\u001b[0m \u001b[39mdef\u001b[39;00m \u001b[39m_getitem\u001b[39m(\u001b[39mself\u001b[39m, where):\n\u001b[1;32m    513\u001b[0m     \u001b[39mif\u001b[39;00m is_integer_like(where):\n\u001b[0;32m--> 514\u001b[0m         \u001b[39mreturn\u001b[39;00m \u001b[39mself\u001b[39;49m\u001b[39m.\u001b[39;49m_getitem_at(ak\u001b[39m.\u001b[39;49m_slicing\u001b[39m.\u001b[39;49mnormalize_integer_like(where))\n\u001b[1;32m    516\u001b[0m     \u001b[39melif\u001b[39;00m \u001b[39misinstance\u001b[39m(where, \u001b[39mslice\u001b[39m) \u001b[39mand\u001b[39;00m where\u001b[39m.\u001b[39mstep \u001b[39mis\u001b[39;00m \u001b[39mNone\u001b[39;00m:\n\u001b[1;32m    517\u001b[0m         \u001b[39m# Ensure that start, stop are non-negative!\u001b[39;00m\n\u001b[1;32m    518\u001b[0m         start, stop, _, _ \u001b[39m=\u001b[39m \u001b[39mself\u001b[39m\u001b[39m.\u001b[39m_backend\u001b[39m.\u001b[39mindex_nplike\u001b[39m.\u001b[39mderive_slice_for_length(\n\u001b[1;32m    519\u001b[0m             normalize_slice(where, backend\u001b[39m=\u001b[39m\u001b[39mself\u001b[39m\u001b[39m.\u001b[39m_backend), \u001b[39mself\u001b[39m\u001b[39m.\u001b[39mlength\n\u001b[1;32m    520\u001b[0m         )\n",
      "File \u001b[0;32m~/Storage/Software/miniconda3/envs/rootcern/lib/python3.11/site-packages/awkward/contents/listoffsetarray.py:301\u001b[0m, in \u001b[0;36mListOffsetArray._getitem_at\u001b[0;34m(self, where)\u001b[0m\n\u001b[1;32m    295\u001b[0m \u001b[39m# Validate `where`\u001b[39;00m\n\u001b[1;32m    296\u001b[0m \u001b[39mif\u001b[39;00m \u001b[39mnot\u001b[39;00m (\n\u001b[1;32m    297\u001b[0m     is_unknown_scalar(where)\n\u001b[1;32m    298\u001b[0m     \u001b[39mor\u001b[39;00m \u001b[39mself\u001b[39m\u001b[39m.\u001b[39mlength \u001b[39mis\u001b[39;00m unknown_length\n\u001b[1;32m    299\u001b[0m     \u001b[39mor\u001b[39;00m (\u001b[39m0\u001b[39m \u001b[39m<\u001b[39m\u001b[39m=\u001b[39m where \u001b[39m<\u001b[39m \u001b[39mself\u001b[39m\u001b[39m.\u001b[39mlength)\n\u001b[1;32m    300\u001b[0m ):\n\u001b[0;32m--> 301\u001b[0m     \u001b[39mraise\u001b[39;00m ak\u001b[39m.\u001b[39m_errors\u001b[39m.\u001b[39mindex_error(\u001b[39mself\u001b[39m, where)\n\u001b[1;32m    302\u001b[0m start, stop \u001b[39m=\u001b[39m \u001b[39mself\u001b[39m\u001b[39m.\u001b[39m_offsets[where], \u001b[39mself\u001b[39m\u001b[39m.\u001b[39m_offsets[where \u001b[39m+\u001b[39m \u001b[39m1\u001b[39m]\n\u001b[1;32m    303\u001b[0m \u001b[39mreturn\u001b[39;00m \u001b[39mself\u001b[39m\u001b[39m.\u001b[39m_content\u001b[39m.\u001b[39m_getitem_range(start, stop)\n",
      "\u001b[0;31mIndexError\u001b[0m: cannot slice ListOffsetArray (of length 1) with 9"
     ]
    }
   ],
   "source": [
    "\n",
    "branches['fParticles.fPz'][9] # solo un evento\n",
    "len(ak.flatten(branches['fParticles.fPz']))"
   ]
  },
  {
   "cell_type": "code",
   "execution_count": null,
   "metadata": {},
   "outputs": [],
   "source": [
    "p = np.sqrt((branches['fParticles.fPx']*branches['fParticles.fPx']) + (branches['fParticles.fPy']*branches['fParticles.fPy']) + (branches['fParticles.fPz']*branches['fParticles.fPz']))\n",
    "pt = np.sqrt((branches['fParticles.fPx']*branches['fParticles.fPx']) + (branches['fParticles.fPy']*branches['fParticles.fPy']))\n",
    "eta = 0.5*np.log((p+branches['fParticles.fPx'])/(p-branches['fParticles.fPx']))\n",
    "proton = branches['fParticles.fPdg'] == 2212\n",
    "pion = branches['fParticles.fPdg'] == 211\n",
    "kaon = branches['fParticles.fPdg'] == 321\n",
    "\n",
    "ak.flatten(pt[proton])"
   ]
  },
  {
   "cell_type": "code",
   "execution_count": null,
   "metadata": {},
   "outputs": [],
   "source": [
    "plt.figure(figsize=(15,5))\n",
    "plt.subplot(1,2,1)\n",
    "plt.hist(ak.flatten(pt[pion]), bins=100, range=(0, 10),label='p')\n",
    "plt.hist(ak.flatten(pt[proton]), bins=100, range=(0, 10),label='$\\pi^+$')\n",
    "plt.hist(ak.flatten(pt[kaon]), bins=100, range=(0, 10),label='$K^+$')\n",
    "plt.title('No selection')\n",
    "plt.xlabel('$p_T$ [GeV]')\n",
    "plt.ylabel('Entries')\n",
    "plt.yscale('log')\n",
    "plt.legend()\n",
    "plt.subplot(1,2,2)\n",
    "plt.hist(ak.flatten(eta[pion]))\n",
    "plt.hist(ak.flatten(eta[proton]))\n",
    "plt.hist(ak.flatten(eta[kaon]))\n",
    "plt.title('No selection')\n",
    "plt.xlabel('$\\eta$')\n",
    "plt.ylabel('Entries')\n",
    "plt.show()\n"
   ]
  },
  {
   "cell_type": "code",
   "execution_count": null,
   "metadata": {},
   "outputs": [],
   "source": [
    "print('Mean Transverse momentum pions:',np.mean(ak.flatten(pt[pion])))\n",
    "print('Mean Transverse momentum protons:',np.mean(ak.flatten(pt[proton])))\n",
    "print('Mean Transverse momentum kaons:',np.mean(ak.flatten(pt[kaon])))\n"
   ]
  }
 ],
 "metadata": {
  "kernelspec": {
   "display_name": "rootcern",
   "language": "python",
   "name": "python3"
  },
  "language_info": {
   "codemirror_mode": {
    "name": "ipython",
    "version": 3
   },
   "file_extension": ".py",
   "mimetype": "text/x-python",
   "name": "python",
   "nbconvert_exporter": "python",
   "pygments_lexer": "ipython3",
   "version": "3.11.0"
  },
  "orig_nbformat": 4,
  "vscode": {
   "interpreter": {
    "hash": "d53971e05361f6185e0828271bb75cde3e85dca873e9ae5de0adcdfb02840a91"
   }
  }
 },
 "nbformat": 4,
 "nbformat_minor": 2
}
