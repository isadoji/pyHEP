{
 "cells": [
  {
   "cell_type": "markdown",
   "metadata": {},
   "source": [
    "# Probabilidad"
   ]
  },
  {
   "cell_type": "markdown",
   "metadata": {},
   "source": [
    "## Definición de probabilidad\n",
    "\n",
    "### Axiomas de Kolmogorov:\n",
    "\n",
    "1. $P(A)>0$\n",
    "2. $P(U)=1$ donde $U$ es el conjunto de todo $A$\n",
    "3. $P(A \\cap B) = P(A)+P(B)$ para todo $A, B$ exclusivo ($A\\cup B$=0)"
   ]
  },
  {
   "cell_type": "markdown",
   "metadata": {},
   "source": [
    "## Definición clásica de probabilidad\n",
    "\n",
    "Son als combinaciones igualmente probables, por ejemplo:\n",
    "\n",
    "1. La probabilidad de que cvaiga cara o cruz es 1/2\n",
    "2. La probabilidad de sacar un carta es 1/52"
   ]
  },
  {
   "cell_type": "markdown",
   "metadata": {},
   "source": [
    "## Definición de probabilidad en base a la frecuancia (Venn, Von Mises)\n",
    "\n",
    "$P(A)=\\lim_{n \\to \\infty}\\frac{N(A)}{N}$ \n",
    "\n",
    "frecuencia de de ocurran $A$ casos de $N$ eventos totales.\n",
    "\n",
    "1. $P(A)$ no es una propiedad intrínseca de A.\n",
    "2. $P(A)$ depende de la muestra N."
   ]
  },
  {
   "cell_type": "markdown",
   "metadata": {},
   "source": [
    "## Probabilidad bayesiana (Finneti)\n",
    "\n",
    "1. Probabilidad a priori o subjetiva.\n",
    "\n",
    "### Teorema de Bayes\n",
    "\n",
    "Supongamos que tenemos dos eventos $A$ y $B$ e introducimos las condiciones de probabilidad:\n",
    "\n",
    "1. $P(A|B)\\equiv$ probabilidad de que el evento $A$ suceda, dada la probabilidad de que suceda el evento $B$\n",
    "2. $P(B|A)\\equiv$ probabilidad de que el evento $B$ suceda, dada la probabilidad de que suceda el evento $A$\n",
    "3. $P(A\\cap B)\\equiv$ probabilidad de que suceda $A$ y $B$:\n",
    "\n",
    "    1. $P(A|B)P(A)$\n",
    "    2.  $P(B|A)P(B)$\n",
    "\n",
    "Entonce: $P(A|B)=\\frac{P(B|A)}{P(B)} P(A)$\n",
    "\n",
    "Como $P(A)+P(B)=1$, podemos escribir la probabilidad como:\n",
    "\n",
    "$P(B|A)P(A)=P(B|\\tilde A)[1-P(A)]$ donde $\\tilde {A}$ es la probabilidad de que $A$ no suceda"
   ]
  },
  {
   "cell_type": "code",
   "execution_count": null,
   "metadata": {},
   "outputs": [],
   "source": [
    "///EJEMPLO///\n",
    "Double_t amarillo = 0.15; \n",
    "Double_t verde = 0.85;  \n",
    "Double_t color_true = 0.80;\n",
    "Double_t color_false = 0.20;\n",
    "\n",
    "// En generar Y=amarillo,verde; y=true,false y a probabilidad es P(Y|y)= P(y|Y)P(Y)/Sum(P(y|Y)P(Y))\n",
    "\n",
    "Double_t prob_aT = color_true*amarillo/((color_true*amarillo)+(color_false*verde));\n",
    "Double_t prob_vT = 1-prob_aT;\n",
    "cout << \"La probabilidad de que un taxi amarillo este involucrado en un choque es de : \" << prob_aT*100 << \"%\" <<endl; \n",
    "cout << \"La probabilidad de que un taxi verde este involucrado en un choque es de : \" << prob_vT*100 << \"%\" <<endl; "
   ]
  },
  {
   "cell_type": "markdown",
   "metadata": {},
   "source": [
    "Si $B$ es el resultado experimental y $A$ es el resultado teórico:\n",
    "\n",
    "1. $P(B|A)$ es la probabilidad de que el resultado experimental ocurra si la teoría es correcta\n",
    "2. $P(A)$ es la probabilidad teórica de que ocurra $A$ sin información del experimento (predicción)"
   ]
  },
  {
   "cell_type": "markdown",
   "metadata": {},
   "source": [
    "## Inferencia y medición \n",
    "\n",
    "__Inferencia:__ A partir de los datos experimentales, se define la teoría correcta, es decir $P(A)$ que mejor se ajuste a los datos o se descarta.\n",
    "\n",
    "### Likelihood (Máxima verosimilitud)\n",
    "\n",
    "$f(x;\\theta):$ medición\n",
    "\n",
    "$L(x;\\theta):$ probabilidad (teórica) de medir $x$ dado un parámetro $\\theta$\n",
    "\n",
    "1. $L(x;\\theta):$ nos dice si $\\theta$ es correcta o no, una vez que se hace la medición $x$\n",
    "2. Logaritmo de $L(x;\\theta)=\\sum_i ln(f(x_i;\\theta))$ para $x_i$ resultados independientes\n",
    "3. $L(x;\\theta):$ tiene toda la información para medir $\\theta$\n",
    "\n",
    "### Inferencia\n",
    "\n",
    "Obtener $x$ con probabilidad gaussiana: $x=x\\pm \\sigma$\n",
    "\n",
    "### Inferencia bayesiana\n",
    "\n",
    "1. $\\pi(\\theta):$ probabilidad a priori (teórica)\n",
    "2. $f(x)=\\int f(x|\\theta)\\pi(\\theta)d\\theta$\n",
    "3. Probabilidad a posteriori: Teorema de Bayes\n",
    "\n",
    "$f(\\theta|x)=\\frac{f(x|\\theta)\\pi(\\theta)}{f(x)}$\n",
    "\n",
    "a. Uniforme: $\\pi(\\theta)=\\alpha$\n",
    "\n",
    "b. Gaussiana: $f(\\mu|x)=\\frac{1}{\\sigma\\sqrt{2\\pi}}exp\\left(-\\frac{(x-\\mu)^2}{2\\sigma^2}\\right)$\n",
    "\n",
    "### Probabilidad a priori de Jeffrey\n",
    "\n",
    "1. Cualquier probabilidad a priori no debe tener preferencia por ningún valor de los parámetros en partícula\n",
    "2. Dado el parámetro $\\theta$, que se espera en promedio de la medición? \n",
    "\n",
    "__Información de Fisher:__ $I(\\theta)=-E\\left(\\frac{\\partial^2ln L}{\\partial \\theta^2}\\right)$\n",
    "\n",
    "__Valor de expectación:__ $\\int f(x|\\theta)I(\\theta)dx$\n",
    "\n",
    "1. $I(\\theta)$ es grande, entonces verdadero valor de $\\theta$\n",
    "2. $I(\\theta)$ es pequeño, entonces erroneo valor de $\\theta$\n",
    "\n",
    "Si $\\pi(\\theta)$ es la probabilidad a priori, y $\\theta$ no debe dar mas información que otro valor de $\\theta'$ entonces:\n",
    "\n",
    "$\\pi(\\theta)=\\pi(\\theta')\\left|\\frac{\\partial\\theta'}{\\partial\\theta}\\right|=\\left(-E\\left(\\frac{\\partial ln L}{\\partial\\theta'}\\right)^2\\right)^{1/2}\\left|\\frac{\\partial\\theta'}{\\partial\\theta}\\right|$=$\\left(-E\\left(\\frac{\\partial ln L}{\\partial\\theta'}\\frac{\\partial\\theta'}{\\partial\\theta}\\right)^2\\right)^{1/2}$=$(I(\\theta)^2)$\n",
    "\n",
    "Entonces la probabilidad a priori $\\pi(\\theta)= (I(\\theta)^2)$\n",
    "\n"
   ]
  }
 ],
 "metadata": {
  "kernelspec": {
   "display_name": "ROOT C++",
   "language": "c++",
   "name": "root"
  },
  "language_info": {
   "codemirror_mode": "text/x-c++src",
   "file_extension": ".C",
   "mimetype": " text/x-c++src",
   "name": "c++"
  }
 },
 "nbformat": 4,
 "nbformat_minor": 4
}
