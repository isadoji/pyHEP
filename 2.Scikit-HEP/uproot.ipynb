{
 "cells": [
  {
   "cell_type": "markdown",
   "metadata": {},
   "source": [
    "# Scikit HEP\n",
    "\n",
    "Ecosistema en python para física de altas energías\n",
    "\n",
    "https://scikit-hep.org/"
   ]
  },
  {
   "cell_type": "markdown",
   "metadata": {},
   "source": [
    "## Uproot\n",
    "\n",
    "Uproot es una biblioteca para leer y escribir archivos ROOT en Python utilizando NumPy.\n",
    "\n",
    "https://uproot.readthedocs.io/en/latest/index.html\n",
    "\n",
    "puedes ser un archivo, local, o en algun servidor (\"http://where/what.root\") o en formato zip\n"
   ]
  },
  {
   "cell_type": "code",
   "execution_count": 105,
   "metadata": {},
   "outputs": [
    {
     "data": {
      "text/plain": [
       "{'ProcessID0;1': 'TProcessID',\n",
       " 'htime;1': 'TH1F',\n",
       " 'T;1': 'TTree',\n",
       " 'hstat;1': 'TH1F'}"
      ]
     },
     "execution_count": 105,
     "metadata": {},
     "output_type": "execute_result"
    }
   ],
   "source": [
    "import uproot\n",
    "import numpy as np\n",
    "\n",
    "file= uproot.open(\"../datasets/uproot-Event.root\")\n",
    "\n",
    "file.classnames() # get a list of contents \n",
    "#file[\"T\"].keys()\n",
    "#file[\"T\"][\"event\"].show()"
   ]
  },
  {
   "cell_type": "markdown",
   "metadata": {},
   "source": [
    "### **TH1F** son histogramas y **TTree** son datos estructurados"
   ]
  },
  {
   "cell_type": "markdown",
   "metadata": {},
   "source": [
    "### Abrir gráfica. \n",
    "\n",
    "Uproot no grafica, pero se puede trasladar la información a otra clse, como **to_hist(), to_numpy(),...**"
   ]
  },
  {
   "cell_type": "code",
   "execution_count": 106,
   "metadata": {},
   "outputs": [
    {
     "data": {
      "text/plain": [
       "array([14., 18., 14., 11., 15., 13., 12., 13.,  8.,  8.,  9., 10., 10.,\n",
       "        7.,  8., 10.,  8., 12.,  6.,  8.,  7.,  9., 10., 12., 10., 11.,\n",
       "       10., 10., 10.,  8., 14., 13.,  9.,  7., 12., 10.,  7.,  6.,  9.,\n",
       "       13., 11.,  8., 10.,  9.,  7.,  4.,  7., 10.,  8.,  8.,  9.,  9.,\n",
       "        7., 12., 11.,  9., 10.,  7., 10., 13., 13., 11.,  9.,  9.,  8.,\n",
       "        8., 10., 12.,  7.,  5.,  9., 10., 12., 13., 10., 14., 10., 10.,\n",
       "        8., 12., 12., 11., 16., 12.,  8., 12.,  7.,  9.,  9.,  7., 10.,\n",
       "        7., 11., 11.,  8., 13.,  9.,  8., 14., 16.], dtype=float32)"
      ]
     },
     "execution_count": 106,
     "metadata": {},
     "output_type": "execute_result"
    },
    {
     "data": {
      "image/png": "[encoded data removed]",
      "text/plain": [
       "<Figure size 640x480 with 1 Axes>"
      ]
     },
     "metadata": {},
     "output_type": "display_data"
    }
   ],
   "source": [
    "h = file[\"hstat\"]\n",
    "h.to_hist().plot()\n",
    "h.values()\n"
   ]
  },
  {
   "cell_type": "markdown",
   "metadata": {},
   "source": [
    "### Abrir datos:"
   ]
  },
  {
   "cell_type": "code",
   "execution_count": 107,
   "metadata": {},
   "outputs": [
    {
     "name": "stdout",
     "output_type": "stream",
     "text": [
      "name                 | typename                 | interpretation                \n",
      "---------------------+--------------------------+-------------------------------\n",
      "event                | Event                    | AsGroup(<TBranchElement 'ev...\n",
      "event/TObject        | (group of fUniqueID:u... | AsGroup(<TBranchElement 'TO...\n",
      "event/TObject/fUn... | uint32_t                 | AsDtype('>u4')\n",
      "event/TObject/fBits  | uint32_t                 | AsDtype('>u4')\n",
      "event/fType[20]      | int8_t[20]               | AsDtype(\"('i1', (20,))\")\n",
      "event/fEventName     | char*                    | AsStrings(length_bytes='4')\n",
      "event/fNtrack        | int32_t                  | AsDtype('>i4')\n",
      "event/fNseg          | int32_t                  | AsDtype('>i4')\n",
      "event/fNvertex       | uint32_t                 | AsDtype('>u4')\n",
      "event/fFlag          | uint32_t                 | AsDtype('>u4')\n",
      "event/fTemperature   | float                    | AsDtype('>f4', 'float64')\n",
      "event/fMeasures[10]  | int32_t[10]              | AsDtype(\"('>i4', (10,))\")\n",
      "event/fMatrix[4][4]  | float[4][4]              | AsDtype(\"('>f4', (4, 4))\", ...\n",
      "event/fClosestDis... | unknown[]                | AsObjects(AsArray(False, Tr...\n",
      "event/fEvtHdr        | EventHeader              | AsGroup(<TBranchElement 'fE...\n",
      "event/fEvtHdr/fEv... | int32_t                  | AsDtype('>i4')\n",
      "event/fEvtHdr/fEv... | int32_t                  | AsDtype('>i4')\n",
      "event/fEvtHdr/fEv... | int32_t                  | AsDtype('>i4')\n",
      "event/fTracks        | TClonesArray*            | AsGroup(<TBranchElement 'fT...\n",
      "event/fTracks/fTr... | uint32_t[]               | AsJagged(AsDtype('>u4'))\n",
      "event/fTracks/fTr... | uint32_t[]               | AsJagged(AsDtype('>u4'))\n",
      "event/fTracks/fTr... | float[]                  | AsJagged(AsDtype('>f4'))\n",
      "event/fTracks/fTr... | float[]                  | AsJagged(AsDtype('>f4'))\n",
      "event/fTracks/fTr... | float[]                  | AsJagged(AsDtype('>f4'))\n",
      "event/fTracks/fTr... | float[]                  | AsJagged(AsDtype('>f4'))\n",
      "event/fTracks/fTr... | Float16_t[]              | AsJagged(AsFloat16(0.0, 0.0...\n",
      "event/fTracks/fTr... | Float16_t[]              | AsJagged(AsFloat16(0.0, 0.0...\n",
      "event/fTracks/fTr... | Float16_t[]              | AsJagged(AsFloat16(0.0, 0.0...\n",
      "event/fTracks/fTr... | float[]                  | AsJagged(AsDtype('>f4'))\n",
      "event/fTracks/fTr... | Float16_t[]              | AsJagged(AsFloat16(0, 0, 12))\n",
      "event/fTracks/fTr... | Float16_t[]              | AsJagged(AsFloat16(0, 0, 12))\n",
      "event/fTracks/fTr... | Float16_t[]              | AsJagged(AsFloat16(0, 0, 12))\n",
      "event/fTracks/fTr... | Float16_t[]              | AsJagged(AsFloat16(0, 0, 12))\n",
      "event/fTracks/fTr... | Float16_t[]              | AsJagged(AsFloat16(0, 0, 12))\n",
      "event/fTracks/fTr... | Float16_t[]              | AsJagged(AsFloat16(0, 0, 12))\n",
      "event/fTracks/fTr... | Double32_t[]             | AsJagged(AsDouble32(-1.0, 1...\n",
      "event/fTracks/fTr... | Double32_t[][3]          | AsJagged(AsDouble32(-30.0, ...\n",
      "event/fTracks/fTr... | int32_t[]                | AsJagged(AsDtype('>i4'))\n",
      "event/fTracks/fTr... | int16_t[]                | AsJagged(AsDtype('>i2'))\n",
      "event/fTracks/fTr... | uint32_t[]               | AsJagged(AsDtype('>u4'))\n",
      "event/fTracks/fTr... | unknown[][]              | AsObjects(AsArray(True, Fal...\n",
      "event/fTracks/fTr... | uint32_t[]               | AsJagged(AsDtype('>u4'))\n",
      "event/fTracks/fTr... | uint32_t[]               | AsJagged(AsDtype('>u4'))\n",
      "event/fTracks/fTr... | uint32_t[]               | AsJagged(AsDtype('>u4'))\n",
      "event/fTracks/fTr... | uint32_t[]               | AsJagged(AsDtype('>u4'))\n",
      "event/fTracks/fTr... | uint8_t[][]              | AsObjects(AsArray(True, Fal...\n",
      "event/fTracks/fTr... | float[][3]               | AsJagged(AsDtype(\"('>f4', (...\n",
      "event/fHighPt        | TRefArray*               | AsObjects(AsPointer(Model_T...\n",
      "event/fMuons         | TRefArray*               | AsObjects(AsPointer(Model_T...\n",
      "event/fLastTrack     | TRef                     | AsStridedObjects(Model_TRef)\n",
      "event/fWebHistogram  | TRef                     | AsStridedObjects(Model_TRef)\n",
      "event/fH             | TH1F                     | AsObjects(Model_TH1F)\n",
      "event/fTriggerBits   | TBits                    | AsGroup(<TBranchElement 'fT...\n",
      "event/fTriggerBit... | (group of fTriggerBit... | AsGroup(<TBranchElement 'fT...\n",
      "event/fTriggerBit... | uint32_t                 | AsDtype('>u4')\n",
      "event/fTriggerBit... | uint32_t                 | AsDtype('>u4')\n",
      "event/fTriggerBit... | uint32_t                 | AsDtype('>u4')\n",
      "event/fTriggerBit... | uint32_t                 | AsDtype('>u4')\n",
      "event/fTriggerBit... | uint8_t[]                | AsJagged(AsDtype('uint8'), ...\n",
      "event/fIsValid       | bool                     | AsDtype('bool')\n"
     ]
    }
   ],
   "source": [
    "t = file[\"T\"]\n",
    "t.show()"
   ]
  },
  {
   "cell_type": "code",
   "execution_count": 108,
   "metadata": {},
   "outputs": [
    {
     "data": {
      "text/plain": [
       "<TBranchElement 'fNtrack' at 0x7f4a647a3fd0>"
      ]
     },
     "execution_count": 108,
     "metadata": {},
     "output_type": "execute_result"
    }
   ],
   "source": [
    "#t.keys()\n",
    "t[\"event/fNtrack\"]\n",
    "#t[\"event/fNtrack\"].typename\n",
    "#t[\"event/fNtrack\"].interpretation"
   ]
  },
  {
   "cell_type": "markdown",
   "metadata": {},
   "source": [
    "El método mas directo de leer un archivo de datos es con la función **array**"
   ]
  },
  {
   "cell_type": "code",
   "execution_count": 109,
   "metadata": {},
   "outputs": [
    {
     "data": {
      "text/html": [
       "<pre>[600,\n",
       " 604,\n",
       " 603,\n",
       " 594,\n",
       " 595,\n",
       " 598,\n",
       " 595,\n",
       " 600,\n",
       " 592,\n",
       " 598,\n",
       " ...,\n",
       " 603,\n",
       " 605,\n",
       " 609,\n",
       " 599,\n",
       " 587,\n",
       " 598,\n",
       " 600,\n",
       " 596,\n",
       " 593]\n",
       "------------------\n",
       "type: 1000 * int32</pre>"
      ],
      "text/plain": [
       "<Array [600, 604, 603, 594, 595, ..., 598, 600, 596, 593] type='1000 * int32'>"
      ]
     },
     "execution_count": 109,
     "metadata": {},
     "output_type": "execute_result"
    }
   ],
   "source": [
    "t[\"event/fNtrack\"].array()"
   ]
  },
  {
   "cell_type": "code",
   "execution_count": 110,
   "metadata": {},
   "outputs": [
    {
     "name": "stdout",
     "output_type": "stream",
     "text": [
      "name                 | typename                 | interpretation                \n",
      "---------------------+--------------------------+-------------------------------\n",
      "event                | Event                    | AsGroup(<TBranchElement 'event\n",
      "TObject              | (group of fUniqueID:u... | AsGroup(<TBranchElement 'TO...\n",
      "TObject/fUniqueID    | uint32_t                 | AsDtype('>u4')\n",
      "TObject/fBits        | uint32_t                 | AsDtype('>u4')\n",
      "fType[20]            | int8_t[20]               | AsDtype(\"('i1', (20,))\")\n",
      "fEventName           | char*                    | AsStrings(length_bytes='4')\n",
      "fNtrack              | int32_t                  | AsDtype('>i4')\n",
      "fNseg                | int32_t                  | AsDtype('>i4')\n",
      "fNvertex             | uint32_t                 | AsDtype('>u4')\n",
      "fFlag                | uint32_t                 | AsDtype('>u4')\n",
      "fTemperature         | float                    | AsDtype('>f4', 'float64')\n",
      "fMeasures[10]        | int32_t[10]              | AsDtype(\"('>i4', (10,))\")\n",
      "fMatrix[4][4]        | float[4][4]              | AsDtype(\"('>f4', (4, 4))\", ...\n",
      "fClosestDistance     | unknown[]                | AsObjects(AsArray(False, Tr...\n",
      "fEvtHdr              | EventHeader              | AsGroup(<TBranchElement 'fE...\n",
      "fEvtHdr/fEvtHdr.f... | int32_t                  | AsDtype('>i4')\n",
      "fEvtHdr/fEvtHdr.fRun | int32_t                  | AsDtype('>i4')\n",
      "fEvtHdr/fEvtHdr.f... | int32_t                  | AsDtype('>i4')\n",
      "fTracks              | TClonesArray*            | AsGroup(<TBranchElement 'fT...\n",
      "fTracks/fTracks.f... | uint32_t[]               | AsJagged(AsDtype('>u4'))\n",
      "fTracks/fTracks.f... | uint32_t[]               | AsJagged(AsDtype('>u4'))\n",
      "fTracks/fTracks.fPx  | float[]                  | AsJagged(AsDtype('>f4'))\n",
      "fTracks/fTracks.fPy  | float[]                  | AsJagged(AsDtype('>f4'))\n",
      "fTracks/fTracks.fPz  | float[]                  | AsJagged(AsDtype('>f4'))\n",
      "fTracks/fTracks.f... | float[]                  | AsJagged(AsDtype('>f4'))\n",
      "fTracks/fTracks.f... | Float16_t[]              | AsJagged(AsFloat16(0.0, 0.0...\n",
      "fTracks/fTracks.fBx  | Float16_t[]              | AsJagged(AsFloat16(0.0, 0.0...\n",
      "fTracks/fTracks.fBy  | Float16_t[]              | AsJagged(AsFloat16(0.0, 0.0...\n",
      "fTracks/fTracks.f... | float[]                  | AsJagged(AsDtype('>f4'))\n",
      "fTracks/fTracks.f... | Float16_t[]              | AsJagged(AsFloat16(0, 0, 12))\n",
      "fTracks/fTracks.f... | Float16_t[]              | AsJagged(AsFloat16(0, 0, 12))\n",
      "fTracks/fTracks.f... | Float16_t[]              | AsJagged(AsFloat16(0, 0, 12))\n",
      "fTracks/fTracks.f... | Float16_t[]              | AsJagged(AsFloat16(0, 0, 12))\n",
      "fTracks/fTracks.f... | Float16_t[]              | AsJagged(AsFloat16(0, 0, 12))\n",
      "fTracks/fTracks.f... | Float16_t[]              | AsJagged(AsFloat16(0, 0, 12))\n",
      "fTracks/fTracks.f... | Double32_t[]             | AsJagged(AsDouble32(-1.0, 1...\n",
      "fTracks/fTracks.f... | Double32_t[][3]          | AsJagged(AsDouble32(-30.0, ...\n",
      "fTracks/fTracks.f... | int32_t[]                | AsJagged(AsDtype('>i4'))\n",
      "fTracks/fTracks.f... | int16_t[]                | AsJagged(AsDtype('>i2'))\n",
      "fTracks/fTracks.fNsp | uint32_t[]               | AsJagged(AsDtype('>u4'))\n",
      "fTracks/fTracks.f... | unknown[][]              | AsObjects(AsArray(True, Fal...\n",
      "fTracks/fTracks.f... | uint32_t[]               | AsJagged(AsDtype('>u4'))\n",
      "fTracks/fTracks.f... | uint32_t[]               | AsJagged(AsDtype('>u4'))\n",
      "fTracks/fTracks.f... | uint32_t[]               | AsJagged(AsDtype('>u4'))\n",
      "fTracks/fTracks.f... | uint32_t[]               | AsJagged(AsDtype('>u4'))\n",
      "fTracks/fTracks.f... | uint8_t[][]              | AsObjects(AsArray(True, Fal...\n",
      "fTracks/fTracks.f... | float[][3]               | AsJagged(AsDtype(\"('>f4', (...\n",
      "fHighPt              | TRefArray*               | AsObjects(AsPointer(Model_T...\n",
      "fMuons               | TRefArray*               | AsObjects(AsPointer(Model_T...\n",
      "fLastTrack           | TRef                     | AsStridedObjects(Model_TRef)\n",
      "fWebHistogram        | TRef                     | AsStridedObjects(Model_TRef)\n",
      "fH                   | TH1F                     | AsObjects(Model_TH1F)\n",
      "fTriggerBits         | TBits                    | AsGroup(<TBranchElement 'fT...\n",
      "fTriggerBits/fTri... | (group of fTriggerBit... | AsGroup(<TBranchElement 'fT...\n",
      "fTriggerBits/fTri... | uint32_t                 | AsDtype('>u4')\n",
      "fTriggerBits/fTri... | uint32_t                 | AsDtype('>u4')\n",
      "fTriggerBits/fTri... | uint32_t                 | AsDtype('>u4')\n",
      "fTriggerBits/fTri... | uint32_t                 | AsDtype('>u4')\n",
      "fTriggerBits/fTri... | uint8_t[]                | AsJagged(AsDtype('uint8'), ...\n",
      "fIsValid             | bool                     | AsDtype('bool')\n"
     ]
    }
   ],
   "source": [
    "tree = t['event']\n",
    "tree.show()"
   ]
  },
  {
   "cell_type": "code",
   "execution_count": 111,
   "metadata": {},
   "outputs": [
    {
     "name": "stdout",
     "output_type": "stream",
     "text": [
      "name                 | typename                 | interpretation                \n",
      "---------------------+--------------------------+-------------------------------\n",
      "fTracks              | TClonesArray*            | AsGroup(<TBranchElement 'fTrac\n",
      "fTracks.fUniqueID    | uint32_t[]               | AsJagged(AsDtype('>u4'))\n",
      "fTracks.fBits        | uint32_t[]               | AsJagged(AsDtype('>u4'))\n",
      "fTracks.fPx          | float[]                  | AsJagged(AsDtype('>f4'))\n",
      "fTracks.fPy          | float[]                  | AsJagged(AsDtype('>f4'))\n",
      "fTracks.fPz          | float[]                  | AsJagged(AsDtype('>f4'))\n",
      "fTracks.fRandom      | float[]                  | AsJagged(AsDtype('>f4'))\n",
      "fTracks.fMass2       | Float16_t[]              | AsJagged(AsFloat16(0.0, 0.0...\n",
      "fTracks.fBx          | Float16_t[]              | AsJagged(AsFloat16(0.0, 0.0...\n",
      "fTracks.fBy          | Float16_t[]              | AsJagged(AsFloat16(0.0, 0.0...\n",
      "fTracks.fMeanCharge  | float[]                  | AsJagged(AsDtype('>f4'))\n",
      "fTracks.fXfirst      | Float16_t[]              | AsJagged(AsFloat16(0, 0, 12))\n",
      "fTracks.fXlast       | Float16_t[]              | AsJagged(AsFloat16(0, 0, 12))\n",
      "fTracks.fYfirst      | Float16_t[]              | AsJagged(AsFloat16(0, 0, 12))\n",
      "fTracks.fYlast       | Float16_t[]              | AsJagged(AsFloat16(0, 0, 12))\n",
      "fTracks.fZfirst      | Float16_t[]              | AsJagged(AsFloat16(0, 0, 12))\n",
      "fTracks.fZlast       | Float16_t[]              | AsJagged(AsFloat16(0, 0, 12))\n",
      "fTracks.fCharge      | Double32_t[]             | AsJagged(AsDouble32(-1.0, 1...\n",
      "fTracks.fVertex[3]   | Double32_t[][3]          | AsJagged(AsDouble32(-30.0, ...\n",
      "fTracks.fNpoint      | int32_t[]                | AsJagged(AsDtype('>i4'))\n",
      "fTracks.fValid       | int16_t[]                | AsJagged(AsDtype('>i2'))\n",
      "fTracks.fNsp         | uint32_t[]               | AsJagged(AsDtype('>u4'))\n",
      "fTracks.fPointValue  | unknown[][]              | AsObjects(AsArray(True, Fal...\n",
      "fTracks.fTriggerB... | uint32_t[]               | AsJagged(AsDtype('>u4'))\n",
      "fTracks.fTriggerB... | uint32_t[]               | AsJagged(AsDtype('>u4'))\n",
      "fTracks.fTriggerB... | uint32_t[]               | AsJagged(AsDtype('>u4'))\n",
      "fTracks.fTriggerB... | uint32_t[]               | AsJagged(AsDtype('>u4'))\n",
      "fTracks.fTriggerB... | uint8_t[][]              | AsObjects(AsArray(True, Fal...\n",
      "fTracks.fTArray[3]   | float[][3]               | AsJagged(AsDtype(\"('>f4', (...\n"
     ]
    }
   ],
   "source": [
    "tracks = tree[\"fTracks\"]\n",
    "tracks.show()\n"
   ]
  },
  {
   "cell_type": "code",
   "execution_count": 112,
   "metadata": {},
   "outputs": [
    {
     "data": {
      "text/html": [
       "<pre>[{&#x27;fTracks.fPx&#x27;: [0.842, -0.752, -1.21, ..., 0.137, -0.646, -0.952]},\n",
       " {&#x27;fTracks.fPx&#x27;: [1.6, -1.08, -1.39, 1.38, ..., 0.221, -0.613, -0.622]},\n",
       " {&#x27;fTracks.fPx&#x27;: [-0.0716, 0.662, -1.27, 0.169, ..., 1.98, 0.51, -1.33]},\n",
       " {&#x27;fTracks.fPx&#x27;: [-0.143, -0.72, -0.261, -1.6, ..., 0.0312, -0.541, -0.8]},\n",
       " {&#x27;fTracks.fPx&#x27;: [-0.35, 0.255, 0.815, 3.52, ..., -0.215, -0.549, -0.978]},\n",
       " {&#x27;fTracks.fPx&#x27;: [0.971, -0.234, -0.503, 0.303, ..., 0.134, 0.803, -1.13]},\n",
       " {&#x27;fTracks.fPx&#x27;: [-1.25, 0.0603, -1.32, ..., -1.16, -0.532, -0.477]},\n",
       " {&#x27;fTracks.fPx&#x27;: [-1.04, -0.838, 0.23, -1.22, ..., 0.46, 0.758, -0.862]},\n",
       " {&#x27;fTracks.fPx&#x27;: [1.8, -1.48, -0.486, ..., -0.644, 0.0333, -0.187]},\n",
       " {&#x27;fTracks.fPx&#x27;: [-1.02, -1.02, -1.07, -0.221, ..., 0.971, 0.51, 0.904]},\n",
       " ...,\n",
       " {&#x27;fTracks.fPx&#x27;: [1.54, 0.355, 0.484, 0.291, ..., -0.62, -0.599, 0.297]},\n",
       " {&#x27;fTracks.fPx&#x27;: [-0.18, 1.38, -0.088, -1.92, ..., 0.695, 0.0874, 0.0486]},\n",
       " {&#x27;fTracks.fPx&#x27;: [-1.26, -0.168, -0.145, ..., -1.14, -0.816, -1.63]},\n",
       " {&#x27;fTracks.fPx&#x27;: [-1.59, 2.41, -0.154, -0.751, ..., -0.519, -0.643, -1.5]},\n",
       " {&#x27;fTracks.fPx&#x27;: [-0.711, 1.1, -0.837, 1.23, ..., 1.33, 0.835, -0.148]},\n",
       " {&#x27;fTracks.fPx&#x27;: [-1.41, 0.697, -0.189, -0.259, ..., 1.17, -1.07, -0.185]},\n",
       " {&#x27;fTracks.fPx&#x27;: [1.36, -0.513, -0.227, ..., 0.133, 0.0473, 0.378]},\n",
       " {&#x27;fTracks.fPx&#x27;: [-0.152, 0.855, 0.525, -2.15, ..., -0.47, -1.1, 1.02]},\n",
       " {&#x27;fTracks.fPx&#x27;: [-0.576, 1.01, 2.03, -1.31, ..., 1.34, 0.624, -0.479]}]\n",
       "---------------------------------------------------------------------------\n",
       "type: 1000 * {\n",
       "    &quot;fTracks.fPx&quot;: var * float32\n",
       "}</pre>"
      ],
      "text/plain": [
       "<Array [{'fTracks.fPx': [...]}, ..., {...}] type='1000 * {\"fTracks.fPx\": va...'>"
      ]
     },
     "execution_count": 112,
     "metadata": {},
     "output_type": "execute_result"
    }
   ],
   "source": [
    "file[\"T\"][\"event\"][\"fTracks.fPx\"].arrays()\n",
    "#file[\"T/event/fTracks.fPx\"].array()\n"
   ]
  },
  {
   "cell_type": "code",
   "execution_count": 113,
   "metadata": {},
   "outputs": [],
   "source": [
    "chg = file[\"T/event/fTracks.fCharge\"] \n",
    "px = file[\"T/event/fTracks.fPx\"] #arraeglos de diferentes tipos\n",
    "py = file[\"T/event/fTracks.fPy\"] #arraeglos de diferentes tipos\n",
    "pz = file[\"T/event/fTracks.fPz\"]#arraeglos de diferentes tipos"
   ]
  },
  {
   "cell_type": "markdown",
   "metadata": {},
   "source": [
    "# Akward\n",
    "\n",
    "Matrices irregulares: Pueden tener diferentes longitudes\n",
    "\n",
    "https://awkward-array.org/doc/main/index.html"
   ]
  },
  {
   "cell_type": "code",
   "execution_count": 117,
   "metadata": {},
   "outputs": [],
   "source": [
    "import awkward as ak\n",
    "\n",
    "pt = ak.flatten(px.array() ** 2 + py.array() ** 2)\n",
    "p = px.array() ** 2 + py.array() ** 2 + pz.array() ** 2\n",
    "eta = ak.flatten(0.5*np.log((p+px.array())/(p-px.array())))\n",
    "phi = ak.flatten(np.arctan(py.array()/px.array()))\n",
    "\n"
   ]
  },
  {
   "cell_type": "code",
   "execution_count": 118,
   "metadata": {},
   "outputs": [
    {
     "data": {
      "text/plain": [
       "Text(0, 0.5, 'dN/$\\\\eta$')"
      ]
     },
     "execution_count": 118,
     "metadata": {},
     "output_type": "execute_result"
    },
    {
     "data": {
      "image/png": "[encoded data removed]",
      "text/plain": [
       "<Figure size 1000x500 with 2 Axes>"
      ]
     },
     "metadata": {},
     "output_type": "display_data"
    }
   ],
   "source": [
    "import matplotlib.pyplot as plt\n",
    "\n",
    "plt.figure(figsize=(10,5))\n",
    "plt.subplot(1,2,1)\n",
    "plt.hist(pt,density=False, bins = 100 , log=True, color ='black',histtype = 'step')\n",
    "\n",
    "plt.xlabel('$p_t [Gev/c]$')\n",
    "plt.ylabel('dN/$dp_t$')\n",
    "\n",
    "plt.subplot(1,2,2)\n",
    "plt.hist(eta,density=False, bins = 100 , color = 'black',log=True,histtype = 'step')\n",
    "plt.xlabel('$\\eta$')\n",
    "plt.ylabel('dN/$\\eta$')"
   ]
  }
 ],
 "metadata": {
  "kernelspec": {
   "display_name": "rootcern",
   "language": "python",
   "name": "python3"
  },
  "language_info": {
   "codemirror_mode": {
    "name": "ipython",
    "version": 3
   },
   "file_extension": ".py",
   "mimetype": "text/x-python",
   "name": "python",
   "nbconvert_exporter": "python",
   "pygments_lexer": "ipython3",
   "version": "3.11.7"
  },
  "orig_nbformat": 4,
  "vscode": {
   "interpreter": {
    "hash": "d53971e05361f6185e0828271bb75cde3e85dca873e9ae5de0adcdfb02840a91"
   }
  }
 },
 "nbformat": 4,
 "nbformat_minor": 2
}
