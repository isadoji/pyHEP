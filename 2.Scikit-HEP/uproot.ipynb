{
 "cells": [
  {
   "cell_type": "markdown",
   "metadata": {},
   "source": [
    "# Scikit HEP\n",
    "\n",
    "Ecosistema en python para física de altas energías\n",
    "\n",
    "https://scikit-hep.org/"
   ]
  },
  {
   "cell_type": "markdown",
   "metadata": {},
   "source": [
    "## Uproot\n",
    "\n",
    "Uproot es una biblioteca para leer y escribir archivos ROOT en Python utilizando NumPy.\n",
    "\n",
    "https://uproot.readthedocs.io/en/latest/index.html\n",
    "\n",
    "puedes ser un archivo, local, o en algun servidor (\"http://where/what.root\") o en formato zip\n"
   ]
  },
  {
   "cell_type": "code",
   "execution_count": 2,
   "metadata": {},
   "outputs": [
    {
     "data": {
      "text/plain": [
       "{'ProcessID0;1': 'TProcessID',\n",
       " 'htime;1': 'TH1F',\n",
       " 'T;1': 'TTree',\n",
       " 'hstat;1': 'TH1F'}"
      ]
     },
     "execution_count": 2,
     "metadata": {},
     "output_type": "execute_result"
    }
   ],
   "source": [
    "import uproot\n",
    "import numpy as np\n",
    "\n",
    "file= uproot.open(\"../datasets/uproot-Event.root\")\n",
    "\n",
    "file.classnames() # get a list of contents \n",
    "#file[\"T\"].keys()\n",
    "#file[\"T\"][\"event\"].show()"
   ]
  },
  {
   "cell_type": "markdown",
   "metadata": {},
   "source": [
    "### **TH1F** son histogramas y **TTree** son datos estructurados"
   ]
  },
  {
   "cell_type": "markdown",
   "metadata": {},
   "source": [
    "### Abrir gráfica. \n",
    "\n",
    "Uproot no grafica, pero se puede trasladar la información a otra clse, como **to_hist(), to_numpy(),...**"
   ]
  },
  {
   "cell_type": "code",
   "execution_count": 3,
   "metadata": {},
   "outputs": [
    {
     "data": {
      "text/plain": [
       "array([14., 18., 14., 11., 15., 13., 12., 13.,  8.,  8.,  9., 10., 10.,\n",
       "        7.,  8., 10.,  8., 12.,  6.,  8.,  7.,  9., 10., 12., 10., 11.,\n",
       "       10., 10., 10.,  8., 14., 13.,  9.,  7., 12., 10.,  7.,  6.,  9.,\n",
       "       13., 11.,  8., 10.,  9.,  7.,  4.,  7., 10.,  8.,  8.,  9.,  9.,\n",
       "        7., 12., 11.,  9., 10.,  7., 10., 13., 13., 11.,  9.,  9.,  8.,\n",
       "        8., 10., 12.,  7.,  5.,  9., 10., 12., 13., 10., 14., 10., 10.,\n",
       "        8., 12., 12., 11., 16., 12.,  8., 12.,  7.,  9.,  9.,  7., 10.,\n",
       "        7., 11., 11.,  8., 13.,  9.,  8., 14., 16.], dtype=float32)"
      ]
     },
     "execution_count": 3,
     "metadata": {},
     "output_type": "execute_result"
    },
    {
     "data": {
      "image/png": "[encoded data removed]",
      "text/plain": [
       "<Figure size 640x480 with 1 Axes>"
      ]
     },
     "metadata": {},
     "output_type": "display_data"
    }
   ],
   "source": [
    "h = file[\"hstat\"]\n",
    "h.to_hist().plot()\n",
    "h.values()\n"
   ]
  },
  {
   "cell_type": "markdown",
   "metadata": {},
   "source": [
    "### Abrir datos:"
   ]
  },
  {
   "cell_type": "code",
   "execution_count": 4,
   "metadata": {},
   "outputs": [
    {
     "name": "stdout",
     "output_type": "stream",
     "text": [
      "name                 | typename                 | interpretation                \n",
      "---------------------+--------------------------+-------------------------------\n",
      "event                | Event                    | AsGroup(<TBranchElement 'ev...\n",
      "event/TObject        | (group of fUniqueID:u... | AsGroup(<TBranchElement 'TO...\n",
      "event/TObject/fUn... | uint32_t                 | AsDtype('>u4')\n",
      "event/TObject/fBits  | uint32_t                 | AsDtype('>u4')\n",
      "event/fType[20]      | int8_t[20]               | AsDtype(\"('i1', (20,))\")\n",
      "event/fEventName     | char*                    | AsStrings(length_bytes='4')\n",
      "event/fNtrack        | int32_t                  | AsDtype('>i4')\n",
      "event/fNseg          | int32_t                  | AsDtype('>i4')\n",
      "event/fNvertex       | uint32_t                 | AsDtype('>u4')\n",
      "event/fFlag          | uint32_t                 | AsDtype('>u4')\n",
      "event/fTemperature   | float                    | AsDtype('>f4', 'float64')\n",
      "event/fMeasures[10]  | int32_t[10]              | AsDtype(\"('>i4', (10,))\")\n",
      "event/fMatrix[4][4]  | float[4][4]              | AsDtype(\"('>f4', (4, 4))\", ...\n",
      "event/fClosestDis... | unknown[]                | AsObjects(AsArray(False, Tr...\n",
      "event/fEvtHdr        | EventHeader              | AsGroup(<TBranchElement 'fE...\n",
      "event/fEvtHdr/fEv... | int32_t                  | AsDtype('>i4')\n",
      "event/fEvtHdr/fEv... | int32_t                  | AsDtype('>i4')\n",
      "event/fEvtHdr/fEv... | int32_t                  | AsDtype('>i4')\n",
      "event/fTracks        | TClonesArray*            | AsGroup(<TBranchElement 'fT...\n",
      "event/fTracks/fTr... | uint32_t[]               | AsJagged(AsDtype('>u4'))\n",
      "event/fTracks/fTr... | uint32_t[]               | AsJagged(AsDtype('>u4'))\n",
      "event/fTracks/fTr... | float[]                  | AsJagged(AsDtype('>f4'))\n",
      "event/fTracks/fTr... | float[]                  | AsJagged(AsDtype('>f4'))\n",
      "event/fTracks/fTr... | float[]                  | AsJagged(AsDtype('>f4'))\n",
      "event/fTracks/fTr... | float[]                  | AsJagged(AsDtype('>f4'))\n",
      "event/fTracks/fTr... | Float16_t[]              | AsJagged(AsFloat16(0.0, 0.0...\n",
      "event/fTracks/fTr... | Float16_t[]              | AsJagged(AsFloat16(0.0, 0.0...\n",
      "event/fTracks/fTr... | Float16_t[]              | AsJagged(AsFloat16(0.0, 0.0...\n",
      "event/fTracks/fTr... | float[]                  | AsJagged(AsDtype('>f4'))\n",
      "event/fTracks/fTr... | Float16_t[]              | AsJagged(AsFloat16(0, 0, 12))\n",
      "event/fTracks/fTr... | Float16_t[]              | AsJagged(AsFloat16(0, 0, 12))\n",
      "event/fTracks/fTr... | Float16_t[]              | AsJagged(AsFloat16(0, 0, 12))\n",
      "event/fTracks/fTr... | Float16_t[]              | AsJagged(AsFloat16(0, 0, 12))\n",
      "event/fTracks/fTr... | Float16_t[]              | AsJagged(AsFloat16(0, 0, 12))\n",
      "event/fTracks/fTr... | Float16_t[]              | AsJagged(AsFloat16(0, 0, 12))\n",
      "event/fTracks/fTr... | Double32_t[]             | AsJagged(AsDouble32(-1.0, 1...\n",
      "event/fTracks/fTr... | Double32_t[][3]          | AsJagged(AsDouble32(-30.0, ...\n",
      "event/fTracks/fTr... | int32_t[]                | AsJagged(AsDtype('>i4'))\n",
      "event/fTracks/fTr... | int16_t[]                | AsJagged(AsDtype('>i2'))\n",
      "event/fTracks/fTr... | uint32_t[]               | AsJagged(AsDtype('>u4'))\n",
      "event/fTracks/fTr... | unknown[][]              | AsObjects(AsArray(True, Fal...\n",
      "event/fTracks/fTr... | uint32_t[]               | AsJagged(AsDtype('>u4'))\n",
      "event/fTracks/fTr... | uint32_t[]               | AsJagged(AsDtype('>u4'))\n",
      "event/fTracks/fTr... | uint32_t[]               | AsJagged(AsDtype('>u4'))\n",
      "event/fTracks/fTr... | uint32_t[]               | AsJagged(AsDtype('>u4'))\n",
      "event/fTracks/fTr... | uint8_t[][]              | AsObjects(AsArray(True, Fal...\n",
      "event/fTracks/fTr... | float[][3]               | AsJagged(AsDtype(\"('>f4', (...\n",
      "event/fHighPt        | TRefArray*               | AsObjects(AsPointer(Model_T...\n",
      "event/fMuons         | TRefArray*               | AsObjects(AsPointer(Model_T...\n",
      "event/fLastTrack     | TRef                     | AsStridedObjects(Model_TRef)\n",
      "event/fWebHistogram  | TRef                     | AsStridedObjects(Model_TRef)\n",
      "event/fH             | TH1F                     | AsObjects(Model_TH1F)\n",
      "event/fTriggerBits   | TBits                    | AsGroup(<TBranchElement 'fT...\n",
      "event/fTriggerBit... | (group of fTriggerBit... | AsGroup(<TBranchElement 'fT...\n",
      "event/fTriggerBit... | uint32_t                 | AsDtype('>u4')\n",
      "event/fTriggerBit... | uint32_t                 | AsDtype('>u4')\n",
      "event/fTriggerBit... | uint32_t                 | AsDtype('>u4')\n",
      "event/fTriggerBit... | uint32_t                 | AsDtype('>u4')\n",
      "event/fTriggerBit... | uint8_t[]                | AsJagged(AsDtype('uint8'), ...\n",
      "event/fIsValid       | bool                     | AsDtype('bool')\n"
     ]
    }
   ],
   "source": [
    "t = file[\"T\"]\n",
    "t.show()"
   ]
  },
  {
   "cell_type": "code",
   "execution_count": 5,
   "metadata": {},
   "outputs": [
    {
     "data": {
      "text/plain": [
       "<TBranchElement 'fNtrack' at 0x7f947e04df90>"
      ]
     },
     "execution_count": 5,
     "metadata": {},
     "output_type": "execute_result"
    }
   ],
   "source": [
    "#t.keys()\n",
    "t[\"event/fNtrack\"]\n",
    "#t[\"event/fNtrack\"].typename\n",
    "#t[\"event/fNtrack\"].interpretation"
   ]
  },
  {
   "cell_type": "markdown",
   "metadata": {},
   "source": [
    "El método mas directo de leer un archivo de datos es con la función **array**"
   ]
  },
  {
   "cell_type": "code",
   "execution_count": 6,
   "metadata": {},
   "outputs": [
    {
     "data": {
      "text/html": [
       "<pre>[600,\n",
       " 604,\n",
       " 603,\n",
       " 594,\n",
       " 595,\n",
       " 598,\n",
       " 595,\n",
       " 600,\n",
       " 592,\n",
       " 598,\n",
       " ...,\n",
       " 603,\n",
       " 605,\n",
       " 609,\n",
       " 599,\n",
       " 587,\n",
       " 598,\n",
       " 600,\n",
       " 596,\n",
       " 593]\n",
       "------------------\n",
       "type: 1000 * int32</pre>"
      ],
      "text/plain": [
       "<Array [600, 604, 603, 594, 595, ..., 598, 600, 596, 593] type='1000 * int32'>"
      ]
     },
     "execution_count": 6,
     "metadata": {},
     "output_type": "execute_result"
    }
   ],
   "source": [
    "t[\"event/fNtrack\"].array()"
   ]
  },
  {
   "cell_type": "code",
   "execution_count": 7,
   "metadata": {},
   "outputs": [
    {
     "name": "stdout",
     "output_type": "stream",
     "text": [
      "name                 | typename                 | interpretation                \n",
      "---------------------+--------------------------+-------------------------------\n",
      "event                | Event                    | AsGroup(<TBranchElement 'event\n",
      "TObject              | (group of fUniqueID:u... | AsGroup(<TBranchElement 'TO...\n",
      "TObject/fUniqueID    | uint32_t                 | AsDtype('>u4')\n",
      "TObject/fBits        | uint32_t                 | AsDtype('>u4')\n",
      "fType[20]            | int8_t[20]               | AsDtype(\"('i1', (20,))\")\n",
      "fEventName           | char*                    | AsStrings(length_bytes='4')\n",
      "fNtrack              | int32_t                  | AsDtype('>i4')\n",
      "fNseg                | int32_t                  | AsDtype('>i4')\n",
      "fNvertex             | uint32_t                 | AsDtype('>u4')\n",
      "fFlag                | uint32_t                 | AsDtype('>u4')\n",
      "fTemperature         | float                    | AsDtype('>f4', 'float64')\n",
      "fMeasures[10]        | int32_t[10]              | AsDtype(\"('>i4', (10,))\")\n",
      "fMatrix[4][4]        | float[4][4]              | AsDtype(\"('>f4', (4, 4))\", ...\n",
      "fClosestDistance     | unknown[]                | AsObjects(AsArray(False, Tr...\n",
      "fEvtHdr              | EventHeader              | AsGroup(<TBranchElement 'fE...\n",
      "fEvtHdr/fEvtHdr.f... | int32_t                  | AsDtype('>i4')\n",
      "fEvtHdr/fEvtHdr.fRun | int32_t                  | AsDtype('>i4')\n",
      "fEvtHdr/fEvtHdr.f... | int32_t                  | AsDtype('>i4')\n",
      "fTracks              | TClonesArray*            | AsGroup(<TBranchElement 'fT...\n",
      "fTracks/fTracks.f... | uint32_t[]               | AsJagged(AsDtype('>u4'))\n",
      "fTracks/fTracks.f... | uint32_t[]               | AsJagged(AsDtype('>u4'))\n",
      "fTracks/fTracks.fPx  | float[]                  | AsJagged(AsDtype('>f4'))\n",
      "fTracks/fTracks.fPy  | float[]                  | AsJagged(AsDtype('>f4'))\n",
      "fTracks/fTracks.fPz  | float[]                  | AsJagged(AsDtype('>f4'))\n",
      "fTracks/fTracks.f... | float[]                  | AsJagged(AsDtype('>f4'))\n",
      "fTracks/fTracks.f... | Float16_t[]              | AsJagged(AsFloat16(0.0, 0.0...\n",
      "fTracks/fTracks.fBx  | Float16_t[]              | AsJagged(AsFloat16(0.0, 0.0...\n",
      "fTracks/fTracks.fBy  | Float16_t[]              | AsJagged(AsFloat16(0.0, 0.0...\n",
      "fTracks/fTracks.f... | float[]                  | AsJagged(AsDtype('>f4'))\n",
      "fTracks/fTracks.f... | Float16_t[]              | AsJagged(AsFloat16(0, 0, 12))\n",
      "fTracks/fTracks.f... | Float16_t[]              | AsJagged(AsFloat16(0, 0, 12))\n",
      "fTracks/fTracks.f... | Float16_t[]              | AsJagged(AsFloat16(0, 0, 12))\n",
      "fTracks/fTracks.f... | Float16_t[]              | AsJagged(AsFloat16(0, 0, 12))\n",
      "fTracks/fTracks.f... | Float16_t[]              | AsJagged(AsFloat16(0, 0, 12))\n",
      "fTracks/fTracks.f... | Float16_t[]              | AsJagged(AsFloat16(0, 0, 12))\n",
      "fTracks/fTracks.f... | Double32_t[]             | AsJagged(AsDouble32(-1.0, 1...\n",
      "fTracks/fTracks.f... | Double32_t[][3]          | AsJagged(AsDouble32(-30.0, ...\n",
      "fTracks/fTracks.f... | int32_t[]                | AsJagged(AsDtype('>i4'))\n",
      "fTracks/fTracks.f... | int16_t[]                | AsJagged(AsDtype('>i2'))\n",
      "fTracks/fTracks.fNsp | uint32_t[]               | AsJagged(AsDtype('>u4'))\n",
      "fTracks/fTracks.f... | unknown[][]              | AsObjects(AsArray(True, Fal...\n",
      "fTracks/fTracks.f... | uint32_t[]               | AsJagged(AsDtype('>u4'))\n",
      "fTracks/fTracks.f... | uint32_t[]               | AsJagged(AsDtype('>u4'))\n",
      "fTracks/fTracks.f... | uint32_t[]               | AsJagged(AsDtype('>u4'))\n",
      "fTracks/fTracks.f... | uint32_t[]               | AsJagged(AsDtype('>u4'))\n",
      "fTracks/fTracks.f... | uint8_t[][]              | AsObjects(AsArray(True, Fal...\n",
      "fTracks/fTracks.f... | float[][3]               | AsJagged(AsDtype(\"('>f4', (...\n",
      "fHighPt              | TRefArray*               | AsObjects(AsPointer(Model_T...\n",
      "fMuons               | TRefArray*               | AsObjects(AsPointer(Model_T...\n",
      "fLastTrack           | TRef                     | AsStridedObjects(Model_TRef)\n",
      "fWebHistogram        | TRef                     | AsStridedObjects(Model_TRef)\n",
      "fH                   | TH1F                     | AsObjects(Model_TH1F)\n",
      "fTriggerBits         | TBits                    | AsGroup(<TBranchElement 'fT...\n",
      "fTriggerBits/fTri... | (group of fTriggerBit... | AsGroup(<TBranchElement 'fT...\n",
      "fTriggerBits/fTri... | uint32_t                 | AsDtype('>u4')\n",
      "fTriggerBits/fTri... | uint32_t                 | AsDtype('>u4')\n",
      "fTriggerBits/fTri... | uint32_t                 | AsDtype('>u4')\n",
      "fTriggerBits/fTri... | uint32_t                 | AsDtype('>u4')\n",
      "fTriggerBits/fTri... | uint8_t[]                | AsJagged(AsDtype('uint8'), ...\n",
      "fIsValid             | bool                     | AsDtype('bool')\n"
     ]
    }
   ],
   "source": [
    "tree = t['event']\n",
    "tree.show()"
   ]
  },
  {
   "cell_type": "code",
   "execution_count": 8,
   "metadata": {},
   "outputs": [
    {
     "name": "stdout",
     "output_type": "stream",
     "text": [
      "name                 | typename                 | interpretation                \n",
      "---------------------+--------------------------+-------------------------------\n",
      "fTracks              | TClonesArray*            | AsGroup(<TBranchElement 'fTrac\n",
      "fTracks.fUniqueID    | uint32_t[]               | AsJagged(AsDtype('>u4'))\n",
      "fTracks.fBits        | uint32_t[]               | AsJagged(AsDtype('>u4'))\n",
      "fTracks.fPx          | float[]                  | AsJagged(AsDtype('>f4'))\n",
      "fTracks.fPy          | float[]                  | AsJagged(AsDtype('>f4'))\n",
      "fTracks.fPz          | float[]                  | AsJagged(AsDtype('>f4'))\n",
      "fTracks.fRandom      | float[]                  | AsJagged(AsDtype('>f4'))\n",
      "fTracks.fMass2       | Float16_t[]              | AsJagged(AsFloat16(0.0, 0.0...\n",
      "fTracks.fBx          | Float16_t[]              | AsJagged(AsFloat16(0.0, 0.0...\n",
      "fTracks.fBy          | Float16_t[]              | AsJagged(AsFloat16(0.0, 0.0...\n",
      "fTracks.fMeanCharge  | float[]                  | AsJagged(AsDtype('>f4'))\n",
      "fTracks.fXfirst      | Float16_t[]              | AsJagged(AsFloat16(0, 0, 12))\n",
      "fTracks.fXlast       | Float16_t[]              | AsJagged(AsFloat16(0, 0, 12))\n",
      "fTracks.fYfirst      | Float16_t[]              | AsJagged(AsFloat16(0, 0, 12))\n",
      "fTracks.fYlast       | Float16_t[]              | AsJagged(AsFloat16(0, 0, 12))\n",
      "fTracks.fZfirst      | Float16_t[]              | AsJagged(AsFloat16(0, 0, 12))\n",
      "fTracks.fZlast       | Float16_t[]              | AsJagged(AsFloat16(0, 0, 12))\n",
      "fTracks.fCharge      | Double32_t[]             | AsJagged(AsDouble32(-1.0, 1...\n",
      "fTracks.fVertex[3]   | Double32_t[][3]          | AsJagged(AsDouble32(-30.0, ...\n",
      "fTracks.fNpoint      | int32_t[]                | AsJagged(AsDtype('>i4'))\n",
      "fTracks.fValid       | int16_t[]                | AsJagged(AsDtype('>i2'))\n",
      "fTracks.fNsp         | uint32_t[]               | AsJagged(AsDtype('>u4'))\n",
      "fTracks.fPointValue  | unknown[][]              | AsObjects(AsArray(True, Fal...\n",
      "fTracks.fTriggerB... | uint32_t[]               | AsJagged(AsDtype('>u4'))\n",
      "fTracks.fTriggerB... | uint32_t[]               | AsJagged(AsDtype('>u4'))\n",
      "fTracks.fTriggerB... | uint32_t[]               | AsJagged(AsDtype('>u4'))\n",
      "fTracks.fTriggerB... | uint32_t[]               | AsJagged(AsDtype('>u4'))\n",
      "fTracks.fTriggerB... | uint8_t[][]              | AsObjects(AsArray(True, Fal...\n",
      "fTracks.fTArray[3]   | float[][3]               | AsJagged(AsDtype(\"('>f4', (...\n"
     ]
    }
   ],
   "source": [
    "tracks = tree[\"fTracks\"]\n",
    "tracks.show()\n"
   ]
  },
  {
   "cell_type": "code",
   "execution_count": 9,
   "metadata": {},
   "outputs": [
    {
     "data": {
      "text/plain": [
       "<TBranchElement 'fTracks.fPx' at 0x7f947e07cbd0>"
      ]
     },
     "execution_count": 9,
     "metadata": {},
     "output_type": "execute_result"
    }
   ],
   "source": [
    "#file[\"T\"][\"event\"][\"fTracks.fPx\"]\n",
    "file[\"T/event/fTracks.fPx\"]\n"
   ]
  },
  {
   "cell_type": "code",
   "execution_count": 10,
   "metadata": {},
   "outputs": [
    {
     "data": {
      "text/html": [
       "<pre>[[2.17, 1.46, 1.45, 2.75, 1.81, 1.52, ..., 0.971, 1.92, 1.45, 0.613, 1.71],\n",
       " [0.969, 0.914, 1.5, 1.46, 1.59, 1.53, ..., 1.89, 0.888, 2.16, 0.725, 2.03],\n",
       " [0.548, 0.838, 0.293, 1.74, 0.34, 2.13, ..., 1.57, 0.913, 2.35, 0.754, 1.6],\n",
       " [0.509, 0.267, 1.18, 3.52, 0.5, 1.51, ..., 0.216, 0.635, 1.41, 1.36, 0.994],\n",
       " [1.03, 0.237, 0.503, 1.07, 1.32, 1.37, ..., 0.397, 0.726, 1.74, 1.27, 1.55],\n",
       " [1.53, 0.149, 1.35, 1.24, 0.871, 0.913, ..., 1.05, 1.21, 2.14, 0.673, 0.521],\n",
       " [1.14, 1.45, 1.17, 1.58, 1.5, 1.25, ..., 0.875, 0.111, 0.465, 1.03, 1.05],\n",
       " [1.84, 1.51, 0.593, 0.462, 2.12, 0.544, ..., 2.37, 3.01, 0.654, 1.28, 0.72],\n",
       " [1.05, 1.68, 1.14, 0.429, 0.616, 0.853, ..., 0.752, 0.887, 1.71, 0.852, 1],\n",
       " [1.95, 0.776, 0.668, 0.513, 1.88, 1.65, ..., 0.548, 1.81, 1.03, 0.525, 2.76],\n",
       " [0.985, 1.27, 0.431, 1.33, 1.07, 1.2, ..., 0.569, 1.13, 0.332, 1.7, 2.47],\n",
       " [0.343, 1.41, 1.35, 2.04, 1.6, 1.45, ..., 0.637, 2.04, 1.14, 1.45, 0.774],\n",
       " [0.519, 1.03, 1.91, 1.32, 1.6, 0.943, ..., 0.917, 1.27, 0.41, 1.09, 0.315],\n",
       " [0.747, 2.08, 1.22, 1.62, 0.7, 0.987, ..., 1.05, 2.65, 0.673, 2.03, 1.55],\n",
       " [1.32, 1.04, 0.334, 0.595, 3.14, 1.76, ..., 1.93, 0.572, 2.07, 1.14, 3.02],\n",
       " [1.5, 0.653, 1.67, 0.744, 1.55, 0.43, ..., 0.708, 1.52, 1.73, 0.76, 0.384],\n",
       " [0.567, 2.08, 1.2, 0.553, 0.809, 1.25, ..., 1.51, 0.556, 1.07, 1.4, 2.05],\n",
       " [1.35, 0.712, 0.985, 0.274, 2.54, 1.03, ..., 0.607, 1.63, 1.02, 1.1, 1.04],\n",
       " [1.48, 0.856, 1.89, 0.6, 0.367, 0.686, ..., 1.65, 0.581, 1.04, 2.18, 1.2]]\n",
       "------------------------------------------------------------------------------\n",
       "type: 19 * var * float32</pre>"
      ],
      "text/plain": [
       "<Array [[2.17, 1.46, 1.45, ..., 0.613, 1.71], ...] type='19 * var * float32'>"
      ]
     },
     "execution_count": 10,
     "metadata": {},
     "output_type": "execute_result"
    }
   ],
   "source": [
    "chg = file[\"T/event/fTracks.fCharge\"]\n",
    "px = file[\"T/event/fTracks.fPx\"]\n",
    "py = file[\"T/event/fTracks.fPy\"]\n",
    "pz = file[\"T/event/fTracks.fPz\"]\n",
    "pt = np.sqrt(px.array(entry_start=1, entry_stop=20) ** 2 + py.array(entry_start=1, entry_stop=20)**2)\n",
    "pt\n"
   ]
  },
  {
   "cell_type": "code",
   "execution_count": 11,
   "metadata": {},
   "outputs": [
    {
     "data": {
      "text/plain": [
       "(array([4.78891e+05, 9.63820e+04, 1.93400e+04, 3.81200e+03, 7.77000e+02,\n",
       "        1.46000e+02, 3.30000e+01, 7.00000e+00, 3.00000e+00, 1.00000e+00]),\n",
       " array([9.73232162e-08, 3.21076822e+00, 6.42153645e+00, 9.63230419e+00,\n",
       "        1.28430729e+01, 1.60538406e+01, 1.92646084e+01, 2.24753761e+01,\n",
       "        2.56861458e+01, 2.88969135e+01, 3.21076813e+01]),\n",
       " <BarContainer object of 10 artists>)"
      ]
     },
     "execution_count": 11,
     "metadata": {},
     "output_type": "execute_result"
    },
    {
     "data": {
      "image/png": "[encoded data removed]",
      "text/plain": [
       "<Figure size 640x480 with 1 Axes>"
      ]
     },
     "metadata": {},
     "output_type": "display_data"
    }
   ],
   "source": [
    "import awkward as ak\n",
    "import matplotlib.pyplot as plt\n",
    "\n",
    "pt = ak.flatten(px.array() ** 2 + py.array() ** 2)\n",
    "plt.hist(pt)\n"
   ]
  },
  {
   "cell_type": "markdown",
   "metadata": {},
   "source": [
    "# UrQMD"
   ]
  },
  {
   "cell_type": "code",
   "execution_count": 12,
   "metadata": {},
   "outputs": [
    {
     "data": {
      "text/plain": [
       "(array([[0., 0., 0., ..., 0., 0., 0.],\n",
       "        [0., 0., 0., ..., 0., 0., 0.],\n",
       "        [0., 0., 0., ..., 0., 0., 0.],\n",
       "        ...,\n",
       "        [0., 0., 0., ..., 0., 0., 0.],\n",
       "        [0., 0., 0., ..., 0., 0., 0.],\n",
       "        [0., 0., 0., ..., 0., 0., 0.]]),\n",
       " array([-3.90972906, -2.96378727, -2.01784549, -1.07190371, -0.12596192,\n",
       "         0.81997986,  1.76592165,  2.71186343,  3.65780522,  4.603747  ,\n",
       "         5.54968878]),\n",
       " <a list of 11141 BarContainer objects>)"
      ]
     },
     "execution_count": 12,
     "metadata": {},
     "output_type": "execute_result"
    },
    {
     "data": {
      "image/png": "[encoded data removed]",
      "text/plain": [
       "<Figure size 640x480 with 1 Axes>"
      ]
     },
     "metadata": {},
     "output_type": "display_data"
    }
   ],
   "source": [
    "file2= uproot.open(\"../datasets/test.f13.root\")\n",
    "branches = file2[\"events/event\"]\n",
    "#branches.show()\n",
    "px2 = branches['fParticles.fPx'].array(entry_start=0, entry_stop=1000)\n",
    "py2 = branches['fParticles.fPy'].array(entry_start=0, entry_stop=1000)\n",
    "pz2 = branches['fParticles.fPz'].array(entry_start=0, entry_stop=1000)\n",
    "\n",
    "p2 = np.sqrt(px2 ** 2 + py2 ** 2 + pz2 ** 2)\n",
    "pt2 = np.sqrt(px2 ** 2 + py2 ** 2)\n",
    "eta2 = 0.5*np.log((p2+px2)/(p2-px2))\n",
    "\n",
    "proton = branches['fParticles.fPdg'] == 2212\n",
    "pion = branches['fParticles.fPdg'] == 211\n",
    "kaon = branches['fParticles.fPdg'] == 321\n",
    "plt.hist(eta2)\n"
   ]
  },
  {
   "cell_type": "code",
   "execution_count": 13,
   "metadata": {},
   "outputs": [
    {
     "ename": "AttributeError",
     "evalue": "no field named 'array'",
     "output_type": "error",
     "traceback": [
      "\u001b[0;31m---------------------------------------------------------------------------\u001b[0m",
      "\u001b[0;31mAttributeError\u001b[0m                            Traceback (most recent call last)",
      "Cell \u001b[0;32mIn[13], line 1\u001b[0m\n\u001b[0;32m----> 1\u001b[0m p \u001b[38;5;241m=\u001b[39m np\u001b[38;5;241m.\u001b[39msqrt(\u001b[43m(\u001b[49m\u001b[43mbranches\u001b[49m\u001b[43m[\u001b[49m\u001b[38;5;124;43m'\u001b[39;49m\u001b[38;5;124;43mfParticles.fPx\u001b[39;49m\u001b[38;5;124;43m'\u001b[39;49m\u001b[43m]\u001b[49m\u001b[38;5;241;43m.\u001b[39;49m\u001b[43marray\u001b[49m\u001b[43m(\u001b[49m\u001b[43m)\u001b[49m\u001b[38;5;241;43m*\u001b[39;49m\u001b[43mbranches\u001b[49m\u001b[43m[\u001b[49m\u001b[38;5;124;43m'\u001b[39;49m\u001b[38;5;124;43mfParticles.fPx\u001b[39;49m\u001b[38;5;124;43m'\u001b[39;49m\u001b[43m]\u001b[49m\u001b[43m)\u001b[49m\u001b[38;5;241;43m.\u001b[39;49m\u001b[43marray\u001b[49m() \u001b[38;5;241m+\u001b[39m (branches[\u001b[38;5;124m'\u001b[39m\u001b[38;5;124mfParticles.fPy\u001b[39m\u001b[38;5;124m'\u001b[39m]\u001b[38;5;241m.\u001b[39marray()\u001b[38;5;241m*\u001b[39mbranches[\u001b[38;5;124m'\u001b[39m\u001b[38;5;124mfParticles.fPy\u001b[39m\u001b[38;5;124m'\u001b[39m]\u001b[38;5;241m.\u001b[39marray) \u001b[38;5;241m+\u001b[39m (branches[\u001b[38;5;124m'\u001b[39m\u001b[38;5;124mfParticles.fPz\u001b[39m\u001b[38;5;124m'\u001b[39m]\u001b[38;5;241m*\u001b[39mbranches[\u001b[38;5;124m'\u001b[39m\u001b[38;5;124mfParticles.fPz\u001b[39m\u001b[38;5;124m'\u001b[39m]))\n\u001b[1;32m      2\u001b[0m pt \u001b[38;5;241m=\u001b[39m np\u001b[38;5;241m.\u001b[39msqrt((branches[\u001b[38;5;124m'\u001b[39m\u001b[38;5;124mfParticles.fPx\u001b[39m\u001b[38;5;124m'\u001b[39m]\u001b[38;5;241m*\u001b[39mbranches[\u001b[38;5;124m'\u001b[39m\u001b[38;5;124mfParticles.fPx\u001b[39m\u001b[38;5;124m'\u001b[39m]) \u001b[38;5;241m+\u001b[39m (branches[\u001b[38;5;124m'\u001b[39m\u001b[38;5;124mfParticles.fPy\u001b[39m\u001b[38;5;124m'\u001b[39m]\u001b[38;5;241m*\u001b[39mbranches[\u001b[38;5;124m'\u001b[39m\u001b[38;5;124mfParticles.fPy\u001b[39m\u001b[38;5;124m'\u001b[39m]))\n\u001b[1;32m      3\u001b[0m eta \u001b[38;5;241m=\u001b[39m \u001b[38;5;241m0.5\u001b[39m\u001b[38;5;241m*\u001b[39mnp\u001b[38;5;241m.\u001b[39mlog((p\u001b[38;5;241m+\u001b[39mbranches[\u001b[38;5;124m'\u001b[39m\u001b[38;5;124mfParticles.fPx\u001b[39m\u001b[38;5;124m'\u001b[39m])\u001b[38;5;241m/\u001b[39m(p\u001b[38;5;241m-\u001b[39mbranches[\u001b[38;5;124m'\u001b[39m\u001b[38;5;124mfParticles.fPx\u001b[39m\u001b[38;5;124m'\u001b[39m]))\n",
      "File \u001b[0;32m~/Storage/Software/miniconda3/envs/pyhep/lib/python3.11/site-packages/awkward/highlevel.py:1236\u001b[0m, in \u001b[0;36mArray.__getattr__\u001b[0;34m(self, where)\u001b[0m\n\u001b[1;32m   1231\u001b[0m         \u001b[38;5;28;01mraise\u001b[39;00m \u001b[38;5;167;01mAttributeError\u001b[39;00m(\n\u001b[1;32m   1232\u001b[0m             \u001b[38;5;124mf\u001b[39m\u001b[38;5;124m\"\u001b[39m\u001b[38;5;124mwhile trying to get field \u001b[39m\u001b[38;5;132;01m{\u001b[39;00mwhere\u001b[38;5;132;01m!r}\u001b[39;00m\u001b[38;5;124m, an exception \u001b[39m\u001b[38;5;124m\"\u001b[39m\n\u001b[1;32m   1233\u001b[0m             \u001b[38;5;124mf\u001b[39m\u001b[38;5;124m\"\u001b[39m\u001b[38;5;124moccurred:\u001b[39m\u001b[38;5;130;01m\\n\u001b[39;00m\u001b[38;5;132;01m{\u001b[39;00m\u001b[38;5;28mtype\u001b[39m(err)\u001b[38;5;132;01m}\u001b[39;00m\u001b[38;5;124m: \u001b[39m\u001b[38;5;132;01m{\u001b[39;00merr\u001b[38;5;132;01m!s}\u001b[39;00m\u001b[38;5;124m\"\u001b[39m\n\u001b[1;32m   1234\u001b[0m         ) \u001b[38;5;28;01mfrom\u001b[39;00m \u001b[38;5;21;01merr\u001b[39;00m\n\u001b[1;32m   1235\u001b[0m \u001b[38;5;28;01melse\u001b[39;00m:\n\u001b[0;32m-> 1236\u001b[0m     \u001b[38;5;28;01mraise\u001b[39;00m \u001b[38;5;167;01mAttributeError\u001b[39;00m(\u001b[38;5;124mf\u001b[39m\u001b[38;5;124m\"\u001b[39m\u001b[38;5;124mno field named \u001b[39m\u001b[38;5;132;01m{\u001b[39;00mwhere\u001b[38;5;132;01m!r}\u001b[39;00m\u001b[38;5;124m\"\u001b[39m)\n",
      "\u001b[0;31mAttributeError\u001b[0m: no field named 'array'"
     ]
    }
   ],
   "source": [
    "p = np.sqrt((branches['fParticles.fPx'].array()*branches['fParticles.fPx']).array() + (branches['fParticles.fPy'].array()*branches['fParticles.fPy'].array) + (branches['fParticles.fPz']*branches['fParticles.fPz']))\n",
    "pt = np.sqrt((branches['fParticles.fPx']*branches['fParticles.fPx']) + (branches['fParticles.fPy']*branches['fParticles.fPy']))\n",
    "eta = 0.5*np.log((p+branches['fParticles.fPx'])/(p-branches['fParticles.fPx']))\n",
    "proton = branches['fParticles.fPdg'] == 2212\n",
    "pion = branches['fParticles.fPdg'] == 211\n",
    "kaon = branches['fParticles.fPdg'] == 321\n",
    "\n",
    "ak.flatten(pt[proton])"
   ]
  },
  {
   "cell_type": "code",
   "execution_count": null,
   "metadata": {},
   "outputs": [
    {
     "ename": "TypeError",
     "evalue": "only integers, slices (`:`), ellipsis (`...`), np.newaxis (`None`), integer/boolean arrays (possibly with variable-length nested lists or missing values), field name (str) or names (non-tuple iterable of str) are valid indices for slicing, not\n\n    False",
     "output_type": "error",
     "traceback": [
      "\u001b[0;31m---------------------------------------------------------------------------\u001b[0m",
      "\u001b[0;31mTypeError\u001b[0m                                 Traceback (most recent call last)",
      "Cell \u001b[0;32mIn[40], line 3\u001b[0m\n\u001b[1;32m      1\u001b[0m plt\u001b[38;5;241m.\u001b[39mfigure(figsize\u001b[38;5;241m=\u001b[39m(\u001b[38;5;241m15\u001b[39m,\u001b[38;5;241m5\u001b[39m))\n\u001b[1;32m      2\u001b[0m plt\u001b[38;5;241m.\u001b[39msubplot(\u001b[38;5;241m1\u001b[39m,\u001b[38;5;241m2\u001b[39m,\u001b[38;5;241m1\u001b[39m)\n\u001b[0;32m----> 3\u001b[0m plt\u001b[38;5;241m.\u001b[39mhist(ak\u001b[38;5;241m.\u001b[39mflatten(\u001b[43mpt\u001b[49m\u001b[43m[\u001b[49m\u001b[43mpion\u001b[49m\u001b[43m]\u001b[49m), bins\u001b[38;5;241m=\u001b[39m\u001b[38;5;241m100\u001b[39m, \u001b[38;5;28mrange\u001b[39m\u001b[38;5;241m=\u001b[39m(\u001b[38;5;241m0\u001b[39m, \u001b[38;5;241m10\u001b[39m),label\u001b[38;5;241m=\u001b[39m\u001b[38;5;124m'\u001b[39m\u001b[38;5;124mp\u001b[39m\u001b[38;5;124m'\u001b[39m)\n\u001b[1;32m      4\u001b[0m plt\u001b[38;5;241m.\u001b[39mhist(ak\u001b[38;5;241m.\u001b[39mflatten(pt[proton]), bins\u001b[38;5;241m=\u001b[39m\u001b[38;5;241m100\u001b[39m, \u001b[38;5;28mrange\u001b[39m\u001b[38;5;241m=\u001b[39m(\u001b[38;5;241m0\u001b[39m, \u001b[38;5;241m10\u001b[39m),label\u001b[38;5;241m=\u001b[39m\u001b[38;5;124m'\u001b[39m\u001b[38;5;124m$\u001b[39m\u001b[38;5;124m\\\u001b[39m\u001b[38;5;124mpi^+$\u001b[39m\u001b[38;5;124m'\u001b[39m)\n\u001b[1;32m      5\u001b[0m plt\u001b[38;5;241m.\u001b[39mhist(ak\u001b[38;5;241m.\u001b[39mflatten(pt[kaon]), bins\u001b[38;5;241m=\u001b[39m\u001b[38;5;241m100\u001b[39m, \u001b[38;5;28mrange\u001b[39m\u001b[38;5;241m=\u001b[39m(\u001b[38;5;241m0\u001b[39m, \u001b[38;5;241m10\u001b[39m),label\u001b[38;5;241m=\u001b[39m\u001b[38;5;124m'\u001b[39m\u001b[38;5;124m$K^+$\u001b[39m\u001b[38;5;124m'\u001b[39m)\n",
      "File \u001b[0;32m~/Storage/Software/miniconda3/envs/pyhep/lib/python3.11/site-packages/awkward/highlevel.py:1062\u001b[0m, in \u001b[0;36mArray.__getitem__\u001b[0;34m(self, where)\u001b[0m\n\u001b[1;32m    632\u001b[0m \u001b[38;5;250m\u001b[39m\u001b[38;5;124;03m\"\"\"\u001b[39;00m\n\u001b[1;32m    633\u001b[0m \u001b[38;5;124;03mArgs:\u001b[39;00m\n\u001b[1;32m    634\u001b[0m \u001b[38;5;124;03m    where (many types supported; see below): Index of positions to\u001b[39;00m\n\u001b[0;32m   (...)\u001b[0m\n\u001b[1;32m   1058\u001b[0m \u001b[38;5;124;03mhave the same dimension as the array being indexed.\u001b[39;00m\n\u001b[1;32m   1059\u001b[0m \u001b[38;5;124;03m\"\"\"\u001b[39;00m\n\u001b[1;32m   1060\u001b[0m \u001b[38;5;28;01mwith\u001b[39;00m ak\u001b[38;5;241m.\u001b[39m_errors\u001b[38;5;241m.\u001b[39mSlicingErrorContext(\u001b[38;5;28mself\u001b[39m, where):\n\u001b[1;32m   1061\u001b[0m     \u001b[38;5;28;01mreturn\u001b[39;00m wrap_layout(\n\u001b[0;32m-> 1062\u001b[0m         prepare_layout(\u001b[38;5;28;43mself\u001b[39;49m\u001b[38;5;241;43m.\u001b[39;49m\u001b[43m_layout\u001b[49m\u001b[43m[\u001b[49m\u001b[43mwhere\u001b[49m\u001b[43m]\u001b[49m),\n\u001b[1;32m   1063\u001b[0m         \u001b[38;5;28mself\u001b[39m\u001b[38;5;241m.\u001b[39m_behavior,\n\u001b[1;32m   1064\u001b[0m         allow_other\u001b[38;5;241m=\u001b[39m\u001b[38;5;28;01mTrue\u001b[39;00m,\n\u001b[1;32m   1065\u001b[0m         attrs\u001b[38;5;241m=\u001b[39m\u001b[38;5;28mself\u001b[39m\u001b[38;5;241m.\u001b[39m_attrs,\n\u001b[1;32m   1066\u001b[0m     )\n",
      "File \u001b[0;32m~/Storage/Software/miniconda3/envs/pyhep/lib/python3.11/site-packages/awkward/contents/content.py:519\u001b[0m, in \u001b[0;36mContent.__getitem__\u001b[0;34m(self, where)\u001b[0m\n\u001b[1;32m    518\u001b[0m \u001b[38;5;28;01mdef\u001b[39;00m \u001b[38;5;21m__getitem__\u001b[39m(\u001b[38;5;28mself\u001b[39m, where):\n\u001b[0;32m--> 519\u001b[0m     \u001b[38;5;28;01mreturn\u001b[39;00m \u001b[38;5;28;43mself\u001b[39;49m\u001b[38;5;241;43m.\u001b[39;49m\u001b[43m_getitem\u001b[49m\u001b[43m(\u001b[49m\u001b[43mwhere\u001b[49m\u001b[43m)\u001b[49m\n",
      "File \u001b[0;32m~/Storage/Software/miniconda3/envs/pyhep/lib/python3.11/site-packages/awkward/contents/content.py:692\u001b[0m, in \u001b[0;36mContent._getitem\u001b[0;34m(self, where)\u001b[0m\n\u001b[1;32m    689\u001b[0m         \u001b[38;5;28;01mreturn\u001b[39;00m \u001b[38;5;28mself\u001b[39m\u001b[38;5;241m.\u001b[39m_getitem(layout)\n\u001b[1;32m    691\u001b[0m \u001b[38;5;28;01melse\u001b[39;00m:\n\u001b[0;32m--> 692\u001b[0m     \u001b[38;5;28;01mraise\u001b[39;00m \u001b[38;5;167;01mTypeError\u001b[39;00m(\n\u001b[1;32m    693\u001b[0m         \u001b[38;5;124m\"\u001b[39m\u001b[38;5;124monly integers, slices (`:`), ellipsis (`...`), np.newaxis (`None`), \u001b[39m\u001b[38;5;124m\"\u001b[39m\n\u001b[1;32m    694\u001b[0m         \u001b[38;5;124m\"\u001b[39m\u001b[38;5;124minteger/boolean arrays (possibly with variable-length nested \u001b[39m\u001b[38;5;124m\"\u001b[39m\n\u001b[1;32m    695\u001b[0m         \u001b[38;5;124m\"\u001b[39m\u001b[38;5;124mlists or missing values), field name (str) or names (non-tuple \u001b[39m\u001b[38;5;124m\"\u001b[39m\n\u001b[1;32m    696\u001b[0m         \u001b[38;5;124m\"\u001b[39m\u001b[38;5;124miterable of str) are valid indices for slicing, not\u001b[39m\u001b[38;5;130;01m\\n\u001b[39;00m\u001b[38;5;130;01m\\n\u001b[39;00m\u001b[38;5;124m    \u001b[39m\u001b[38;5;124m\"\u001b[39m\n\u001b[1;32m    697\u001b[0m         \u001b[38;5;241m+\u001b[39m \u001b[38;5;28mrepr\u001b[39m(where)\u001b[38;5;241m.\u001b[39mreplace(\u001b[38;5;124m\"\u001b[39m\u001b[38;5;130;01m\\n\u001b[39;00m\u001b[38;5;124m\"\u001b[39m, \u001b[38;5;124m\"\u001b[39m\u001b[38;5;130;01m\\n\u001b[39;00m\u001b[38;5;124m    \u001b[39m\u001b[38;5;124m\"\u001b[39m)\n\u001b[1;32m    698\u001b[0m     )\n",
      "\u001b[0;31mTypeError\u001b[0m: only integers, slices (`:`), ellipsis (`...`), np.newaxis (`None`), integer/boolean arrays (possibly with variable-length nested lists or missing values), field name (str) or names (non-tuple iterable of str) are valid indices for slicing, not\n\n    False",
      "\u001b[0m\nThis error occurred while attempting to slice\n\n    <Array [4.7, 1.64, 1.64, ..., 2.56, 1.91, 0.954] type='599392 * float32'>\n\nwith\n\n    False"
     ]
    },
    {
     "data": {
      "image/png": "[encoded data removed]",
      "text/plain": [
       "<Figure size 1500x500 with 1 Axes>"
      ]
     },
     "metadata": {},
     "output_type": "display_data"
    }
   ],
   "source": [
    "plt.figure(figsize=(15,5))\n",
    "plt.subplot(1,2,1)\n",
    "plt.hist(ak.flatten(pt[pion]), bins=100, range=(0, 10),label='p')\n",
    "plt.hist(ak.flatten(pt[proton]), bins=100, range=(0, 10),label='$\\pi^+$')\n",
    "plt.hist(ak.flatten(pt[kaon]), bins=100, range=(0, 10),label='$K^+$')\n",
    "plt.title('No selection')\n",
    "plt.xlabel('$p_T$ [GeV]')\n",
    "plt.ylabel('Entries')\n",
    "plt.yscale('log')\n",
    "plt.legend()\n",
    "plt.subplot(1,2,2)\n",
    "plt.hist(ak.flatten(eta[pion]))\n",
    "plt.hist(ak.flatten(eta[proton]))\n",
    "plt.hist(ak.flatten(eta[kaon]))\n",
    "plt.title('No selection')\n",
    "plt.xlabel('$\\eta$')\n",
    "plt.ylabel('Entries')\n",
    "plt.show()\n"
   ]
  },
  {
   "cell_type": "code",
   "execution_count": null,
   "metadata": {},
   "outputs": [
    {
     "ename": "TypeError",
     "evalue": "only integers, slices (`:`), ellipsis (`...`), np.newaxis (`None`), integer/boolean arrays (possibly with variable-length nested lists or missing values), field name (str) or names (non-tuple iterable of str) are valid indices for slicing, not\n\n    False",
     "output_type": "error",
     "traceback": [
      "\u001b[0;31m---------------------------------------------------------------------------\u001b[0m",
      "\u001b[0;31mTypeError\u001b[0m                                 Traceback (most recent call last)",
      "Cell \u001b[0;32mIn[44], line 1\u001b[0m\n\u001b[0;32m----> 1\u001b[0m \u001b[38;5;28mprint\u001b[39m(\u001b[38;5;124m'\u001b[39m\u001b[38;5;124mMean Transverse momentum pions:\u001b[39m\u001b[38;5;124m'\u001b[39m,np\u001b[38;5;241m.\u001b[39mmean(ak\u001b[38;5;241m.\u001b[39mflatten(\u001b[43mpt\u001b[49m\u001b[43m[\u001b[49m\u001b[43mpion\u001b[49m\u001b[43m]\u001b[49m)))\n\u001b[1;32m      2\u001b[0m \u001b[38;5;28mprint\u001b[39m(\u001b[38;5;124m'\u001b[39m\u001b[38;5;124mMean Transverse momentum protons:\u001b[39m\u001b[38;5;124m'\u001b[39m,np\u001b[38;5;241m.\u001b[39mmean(ak\u001b[38;5;241m.\u001b[39mflatten(pt[proton])))\n\u001b[1;32m      3\u001b[0m \u001b[38;5;66;03m#infile= uproot.open(\"test.f13.root:events\")\u001b[39;00m\n",
      "File \u001b[0;32m~/Storage/Software/miniconda3/envs/pyhep/lib/python3.11/site-packages/awkward/highlevel.py:1062\u001b[0m, in \u001b[0;36mArray.__getitem__\u001b[0;34m(self, where)\u001b[0m\n\u001b[1;32m    632\u001b[0m \u001b[38;5;250m\u001b[39m\u001b[38;5;124;03m\"\"\"\u001b[39;00m\n\u001b[1;32m    633\u001b[0m \u001b[38;5;124;03mArgs:\u001b[39;00m\n\u001b[1;32m    634\u001b[0m \u001b[38;5;124;03m    where (many types supported; see below): Index of positions to\u001b[39;00m\n\u001b[0;32m   (...)\u001b[0m\n\u001b[1;32m   1058\u001b[0m \u001b[38;5;124;03mhave the same dimension as the array being indexed.\u001b[39;00m\n\u001b[1;32m   1059\u001b[0m \u001b[38;5;124;03m\"\"\"\u001b[39;00m\n\u001b[1;32m   1060\u001b[0m \u001b[38;5;28;01mwith\u001b[39;00m ak\u001b[38;5;241m.\u001b[39m_errors\u001b[38;5;241m.\u001b[39mSlicingErrorContext(\u001b[38;5;28mself\u001b[39m, where):\n\u001b[1;32m   1061\u001b[0m     \u001b[38;5;28;01mreturn\u001b[39;00m wrap_layout(\n\u001b[0;32m-> 1062\u001b[0m         prepare_layout(\u001b[38;5;28;43mself\u001b[39;49m\u001b[38;5;241;43m.\u001b[39;49m\u001b[43m_layout\u001b[49m\u001b[43m[\u001b[49m\u001b[43mwhere\u001b[49m\u001b[43m]\u001b[49m),\n\u001b[1;32m   1063\u001b[0m         \u001b[38;5;28mself\u001b[39m\u001b[38;5;241m.\u001b[39m_behavior,\n\u001b[1;32m   1064\u001b[0m         allow_other\u001b[38;5;241m=\u001b[39m\u001b[38;5;28;01mTrue\u001b[39;00m,\n\u001b[1;32m   1065\u001b[0m         attrs\u001b[38;5;241m=\u001b[39m\u001b[38;5;28mself\u001b[39m\u001b[38;5;241m.\u001b[39m_attrs,\n\u001b[1;32m   1066\u001b[0m     )\n",
      "File \u001b[0;32m~/Storage/Software/miniconda3/envs/pyhep/lib/python3.11/site-packages/awkward/contents/content.py:519\u001b[0m, in \u001b[0;36mContent.__getitem__\u001b[0;34m(self, where)\u001b[0m\n\u001b[1;32m    518\u001b[0m \u001b[38;5;28;01mdef\u001b[39;00m \u001b[38;5;21m__getitem__\u001b[39m(\u001b[38;5;28mself\u001b[39m, where):\n\u001b[0;32m--> 519\u001b[0m     \u001b[38;5;28;01mreturn\u001b[39;00m \u001b[38;5;28;43mself\u001b[39;49m\u001b[38;5;241;43m.\u001b[39;49m\u001b[43m_getitem\u001b[49m\u001b[43m(\u001b[49m\u001b[43mwhere\u001b[49m\u001b[43m)\u001b[49m\n",
      "File \u001b[0;32m~/Storage/Software/miniconda3/envs/pyhep/lib/python3.11/site-packages/awkward/contents/content.py:692\u001b[0m, in \u001b[0;36mContent._getitem\u001b[0;34m(self, where)\u001b[0m\n\u001b[1;32m    689\u001b[0m         \u001b[38;5;28;01mreturn\u001b[39;00m \u001b[38;5;28mself\u001b[39m\u001b[38;5;241m.\u001b[39m_getitem(layout)\n\u001b[1;32m    691\u001b[0m \u001b[38;5;28;01melse\u001b[39;00m:\n\u001b[0;32m--> 692\u001b[0m     \u001b[38;5;28;01mraise\u001b[39;00m \u001b[38;5;167;01mTypeError\u001b[39;00m(\n\u001b[1;32m    693\u001b[0m         \u001b[38;5;124m\"\u001b[39m\u001b[38;5;124monly integers, slices (`:`), ellipsis (`...`), np.newaxis (`None`), \u001b[39m\u001b[38;5;124m\"\u001b[39m\n\u001b[1;32m    694\u001b[0m         \u001b[38;5;124m\"\u001b[39m\u001b[38;5;124minteger/boolean arrays (possibly with variable-length nested \u001b[39m\u001b[38;5;124m\"\u001b[39m\n\u001b[1;32m    695\u001b[0m         \u001b[38;5;124m\"\u001b[39m\u001b[38;5;124mlists or missing values), field name (str) or names (non-tuple \u001b[39m\u001b[38;5;124m\"\u001b[39m\n\u001b[1;32m    696\u001b[0m         \u001b[38;5;124m\"\u001b[39m\u001b[38;5;124miterable of str) are valid indices for slicing, not\u001b[39m\u001b[38;5;130;01m\\n\u001b[39;00m\u001b[38;5;130;01m\\n\u001b[39;00m\u001b[38;5;124m    \u001b[39m\u001b[38;5;124m\"\u001b[39m\n\u001b[1;32m    697\u001b[0m         \u001b[38;5;241m+\u001b[39m \u001b[38;5;28mrepr\u001b[39m(where)\u001b[38;5;241m.\u001b[39mreplace(\u001b[38;5;124m\"\u001b[39m\u001b[38;5;130;01m\\n\u001b[39;00m\u001b[38;5;124m\"\u001b[39m, \u001b[38;5;124m\"\u001b[39m\u001b[38;5;130;01m\\n\u001b[39;00m\u001b[38;5;124m    \u001b[39m\u001b[38;5;124m\"\u001b[39m)\n\u001b[1;32m    698\u001b[0m     )\n",
      "\u001b[0;31mTypeError\u001b[0m: only integers, slices (`:`), ellipsis (`...`), np.newaxis (`None`), integer/boolean arrays (possibly with variable-length nested lists or missing values), field name (str) or names (non-tuple iterable of str) are valid indices for slicing, not\n\n    False",
      "\u001b[0m\nThis error occurred while attempting to slice\n\n    <Array [4.7, 1.64, 1.64, ..., 2.56, 1.91, 0.954] type='599392 * float32'>\n\nwith\n\n    False"
     ]
    }
   ],
   "source": [
    "print('Mean Transverse momentum pions:',np.mean(ak.flatten(pt[pion])))\n",
    "print('Mean Transverse momentum protons:',np.mean(ak.flatten(pt[proton])))\n",
    "#infile= uproot.open(\"test.f13.root:events\")\n",
    "print('Mean Transverse momentum kaons:',np.mean(ak.flatten(pt[kaon])))\n"
   ]
  }
 ],
 "metadata": {
  "kernelspec": {
   "display_name": "rootcern",
   "language": "python",
   "name": "python3"
  },
  "language_info": {
   "codemirror_mode": {
    "name": "ipython",
    "version": 3
   },
   "file_extension": ".py",
   "mimetype": "text/x-python",
   "name": "python",
   "nbconvert_exporter": "python",
   "pygments_lexer": "ipython3",
   "version": "3.11.7"
  },
  "orig_nbformat": 4,
  "vscode": {
   "interpreter": {
    "hash": "d53971e05361f6185e0828271bb75cde3e85dca873e9ae5de0adcdfb02840a91"
   }
  }
 },
 "nbformat": 4,
 "nbformat_minor": 2
}
