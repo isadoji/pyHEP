{
 "cells": [
  {
   "cell_type": "code",
   "execution_count": 12,
   "metadata": {},
   "outputs": [],
   "source": [
    "# conda install uproot awkward numpay matplotlib\n",
    "import numpy as np\n",
    "import matplotlib.pylab as plt\n",
    "\n",
    "import uproot\n",
    "import awkward as ak"
   ]
  },
  {
   "cell_type": "code",
   "execution_count": 13,
   "metadata": {},
   "outputs": [
    {
     "data": {
      "text/plain": [
       "['run;1', 'events;1']"
      ]
     },
     "execution_count": 13,
     "metadata": {},
     "output_type": "execute_result"
    }
   ],
   "source": [
    "#infile_name = 'root://eospublic.cern.ch//eos/opendata/cms/derived-data/AOD2NanoAODOutreachTool/ForHiggsTo4Leptons/SMHiggsToZZTo4L.root'\n",
    "#infile = uproot.open(infile_name)\n",
    "infile= uproot.open(\"test.f13.root\")\n",
    "\n",
    "infile.keys() # get a list of contents \n"
   ]
  },
  {
   "cell_type": "code",
   "execution_count": 14,
   "metadata": {},
   "outputs": [
    {
     "name": "stdout",
     "output_type": "stream",
     "text": [
      "name                 | typename                 | interpretation                \n",
      "---------------------+--------------------------+-------------------------------\n",
      "event                | UEvent                   | AsGroup(<TBranchElement 'ev...\n",
      "event/TObject        | (group of fUniqueID:u... | AsGroup(<TBranchElement 'TO...\n",
      "event/TObject/fUn... | uint32_t                 | AsDtype('>u4')\n",
      "event/TObject/fBits  | uint32_t                 | AsDtype('>u4')\n",
      "event/fEventNr       | int32_t                  | AsDtype('>i4')\n",
      "event/fB             | double                   | AsDtype('>f8')\n",
      "event/fPhi           | double                   | AsDtype('>f8')\n",
      "event/fNes           | int32_t                  | AsDtype('>i4')\n",
      "event/fStepNr        | int32_t                  | AsDtype('>i4')\n",
      "event/fStepT         | double                   | AsDtype('>f8')\n",
      "event/fNpa           | int32_t                  | AsDtype('>i4')\n",
      "event/fComment       | TString                  | AsStrings()\n",
      "event/fParticles     | TClonesArray*            | AsGroup(<TBranchElement 'fP...\n",
      "event/fParticles/... | uint32_t[]               | AsJagged(AsDtype('>u4'))\n",
      "event/fParticles/... | uint32_t[]               | AsJagged(AsDtype('>u4'))\n",
      "event/fParticles/... | int32_t[]                | AsJagged(AsDtype('>i4'))\n",
      "event/fParticles/... | int32_t[]                | AsJagged(AsDtype('>i4'))\n",
      "event/fParticles/... | int32_t[]                | AsJagged(AsDtype('>i4'))\n",
      "event/fParticles/... | int32_t[]                | AsJagged(AsDtype('>i4'))\n",
      "event/fParticles/... | int32_t[]                | AsJagged(AsDtype('>i4'))\n",
      "event/fParticles/... | int32_t[]                | AsJagged(AsDtype('>i4'))\n",
      "event/fParticles/... | int32_t[]                | AsJagged(AsDtype('>i4'))\n",
      "event/fParticles/... | int32_t[][2]             | AsJagged(AsDtype(\"('>i4', (...\n",
      "event/fParticles/... | float[]                  | AsJagged(AsDtype('>f4', 'fl...\n",
      "event/fParticles/... | float[]                  | AsJagged(AsDtype('>f4', 'fl...\n",
      "event/fParticles/... | float[]                  | AsJagged(AsDtype('>f4', 'fl...\n",
      "event/fParticles/... | float[]                  | AsJagged(AsDtype('>f4', 'fl...\n",
      "event/fParticles/... | float[]                  | AsJagged(AsDtype('>f4', 'fl...\n",
      "event/fParticles/... | float[]                  | AsJagged(AsDtype('>f4', 'fl...\n",
      "event/fParticles/... | float[]                  | AsJagged(AsDtype('>f4', 'fl...\n",
      "event/fParticles/... | float[]                  | AsJagged(AsDtype('>f4', 'fl...\n",
      "event/fParticles/... | float[]                  | AsJagged(AsDtype('>f4', 'fl...\n"
     ]
    }
   ],
   "source": [
    "events = infile['events']\n",
    "events.show()"
   ]
  },
  {
   "cell_type": "code",
   "execution_count": 47,
   "metadata": {},
   "outputs": [
    {
     "data": {
      "text/plain": [
       "[]"
      ]
     },
     "execution_count": 47,
     "metadata": {},
     "output_type": "execute_result"
    }
   ],
   "source": [
    "tree = infile['events/fParticles'][1]\n",
    "tree.keys()"
   ]
  },
  {
   "cell_type": "code",
   "execution_count": 26,
   "metadata": {},
   "outputs": [
    {
     "data": {
      "text/plain": [
       "19"
      ]
     },
     "execution_count": 26,
     "metadata": {},
     "output_type": "execute_result"
    }
   ],
   "source": [
    "branches = tree.arrays(library=\"np\")\n",
    "len(branches)"
   ]
  },
  {
   "cell_type": "code",
   "execution_count": 35,
   "metadata": {},
   "outputs": [
    {
     "name": "stdout",
     "output_type": "stream",
     "text": [
      "[[1.08, 1.39, -0.207, 1.87, 0.148, ..., -0.505, -0.358, -0.121, -0.273, 0.225]]\n"
     ]
    }
   ],
   "source": [
    "px = tree['fParticles.fPx']\n",
    "print(px.array())\n"
   ]
  },
  {
   "cell_type": "code",
   "execution_count": 30,
   "metadata": {},
   "outputs": [
    {
     "data": {
      "text/plain": [
       "Text(0.5, 0, '$p_x$ (GeV/c)')"
      ]
     },
     "execution_count": 30,
     "metadata": {},
     "output_type": "execute_result"
    },
    {
     "data": {
      "image/png": "[encoded data removed]",
      "text/plain": [
       "<Figure size 640x480 with 1 Axes>"
      ]
     },
     "metadata": {},
     "output_type": "display_data"
    }
   ],
   "source": [
    "\n",
    "plt.figure()\n",
    "plt.hist(ak.flatten(px.array()),bins=100,range=(0,100));\n",
    "plt.xlabel(r'$p_x$ (GeV/c)',fontsize=14)"
   ]
  },
  {
   "cell_type": "code",
   "execution_count": 21,
   "metadata": {},
   "outputs": [
    {
     "data": {
      "text/html": [
       "<pre>[1.12,\n",
       " 1.88,\n",
       " 0.158,\n",
       " 1.81,\n",
       " 0.658,\n",
       " 0.843,\n",
       " 0.956,\n",
       " 1.76,\n",
       " 0.82,\n",
       " 0.842,\n",
       " ...,\n",
       " 0.809,\n",
       " 0.852,\n",
       " 0.358,\n",
       " 1.3,\n",
       " 1.31,\n",
       " 1.8,\n",
       " 0.861,\n",
       " 0.545,\n",
       " 1.3]\n",
       "-------------------\n",
       "type: 216 * float64</pre>"
      ],
      "text/plain": [
       "<Array [1.12, 1.88, 0.158, 1.81, ..., 0.861, 0.545, 1.3] type='216 * float64'>"
      ]
     },
     "execution_count": 21,
     "metadata": {},
     "output_type": "execute_result"
    }
   ],
   "source": [
    "p = np.sqrt((branches['fParticles.fPx']*branches['fParticles.fPx']) + (branches['fParticles.fPy']*branches['fParticles.fPy']) + (branches['fParticles.fPz']*branches['fParticles.fPz']))\n",
    "pt = np.sqrt((branches['fParticles.fPx']*branches['fParticles.fPx']) + (branches['fParticles.fPy']*branches['fParticles.fPy']))\n",
    "eta = 0.5*np.log((p+branches['fParticles.fPx'])/(p-branches['fParticles.fPx']))\n",
    "proton = branches['fParticles.fPdg'] == 2212\n",
    "pion = branches['fParticles.fPdg'] == 211\n",
    "kaon = branches['fParticles.fPdg'] == 321\n",
    "\n",
    "ak.flatten(pt[proton])"
   ]
  },
  {
   "cell_type": "code",
   "execution_count": 22,
   "metadata": {},
   "outputs": [
    {
     "data": {
      "image/png": "[encoded data removed]",
      "text/plain": [
       "<Figure size 1500x500 with 2 Axes>"
      ]
     },
     "metadata": {},
     "output_type": "display_data"
    }
   ],
   "source": [
    "plt.figure(figsize=(15,5))\n",
    "plt.subplot(1,2,1)\n",
    "plt.hist(ak.flatten(pt[pion]), bins=100, range=(0, 10),label='p')\n",
    "plt.hist(ak.flatten(pt[proton]), bins=100, range=(0, 10),label='$\\pi^+$')\n",
    "plt.hist(ak.flatten(pt[kaon]), bins=100, range=(0, 10),label='$K^+$')\n",
    "plt.title('No selection')\n",
    "plt.xlabel('$p_T$ [GeV]')\n",
    "plt.ylabel('Entries')\n",
    "plt.yscale('log')\n",
    "plt.legend()\n",
    "plt.subplot(1,2,2)\n",
    "plt.hist(ak.flatten(eta[pion]))\n",
    "plt.hist(ak.flatten(eta[proton]))\n",
    "plt.hist(ak.flatten(eta[kaon]))\n",
    "plt.title('No selection')\n",
    "plt.xlabel('$\\eta$')\n",
    "plt.ylabel('Entries')\n",
    "plt.show()\n"
   ]
  },
  {
   "cell_type": "code",
   "execution_count": null,
   "metadata": {},
   "outputs": [],
   "source": [
    "print('Mean Transverse momentum pions:',np.mean(ak.flatten(pt[pion])))\n",
    "print('Mean Transverse momentum protons:',np.mean(ak.flatten(pt[proton])))\n",
    "#infile= uproot.open(\"test.f13.root:events\")\n",
    "print('Mean Transverse momentum kaons:',np.mean(ak.flatten(pt[kaon])))\n"
   ]
  },
  {
   "cell_type": "code",
   "execution_count": 45,
   "metadata": {},
   "outputs": [
    {
     "name": "stdout",
     "output_type": "stream",
     "text": [
      "<Array [{fUniqueID: 0, fBits: 50331648, ...}] type='1 * {fUniqueID: uint32,...'>\n"
     ]
    }
   ],
   "source": [
    "infile2= uproot.open(\"test.f13.root:events\")\n",
    "for batch in events.iterate(step_size=1):\n",
    "    print(repr(batch))\n"
   ]
  }
 ],
 "metadata": {
  "kernelspec": {
   "display_name": "rootcern",
   "language": "python",
   "name": "python3"
  },
  "language_info": {
   "codemirror_mode": {
    "name": "ipython",
    "version": 3
   },
   "file_extension": ".py",
   "mimetype": "text/x-python",
   "name": "python",
   "nbconvert_exporter": "python",
   "pygments_lexer": "ipython3",
   "version": "3.11.0"
  },
  "orig_nbformat": 4,
  "vscode": {
   "interpreter": {
    "hash": "d53971e05361f6185e0828271bb75cde3e85dca873e9ae5de0adcdfb02840a91"
   }
  }
 },
 "nbformat": 4,
 "nbformat_minor": 2
}
