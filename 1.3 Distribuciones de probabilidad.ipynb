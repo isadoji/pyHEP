{
 "cells": [
  {
   "cell_type": "markdown",
   "metadata": {},
   "source": [
    "# Funciones teóricas de densidas de probabilidad"
   ]
  },
  {
   "cell_type": "markdown",
   "metadata": {},
   "source": [
    "1. Variables aleatorias x: números reales, r: enteros\n",
    "2. Parámetros: $\\theta$\n",
    "3. Función de densidad de probabilidad: $f(x;\\theta)$ o $f(x|\\theta)$"
   ]
  },
  {
   "cell_type": "markdown",
   "metadata": {},
   "source": [
    "## Distribucion gaussiana o normal\n",
    "\n",
    "$f(x;\\mu,\\sigma) = \\frac{1}{{\\sigma\\sqrt{2\\pi}}}e^{-\\frac{\\left(x-\\mu\\right) ^2}{2\\sigma^2}}$\n",
    "\n",
    "1. Dos parámetros, $\\mu$: valor medio, $\\sigma$: desviación estándar\n",
    "\n",
    "### Producto de dos gaussianas:\n",
    "\n",
    "$f(x,y;\\mu_x, mu_y,\\sigma_x, \\sigma_y) = \\frac{1}{{\\sigma_x \\sigma_y 2\\pi}}e^{-\\frac{1}{2}\\left(\\frac{(x-\\mu_x)^2}{\\sigma_x^2}+\\frac{(y-\\mu_y)^2}{\\sigma_y^2}\\right)}$\n",
    "\n",
    "1. Correlación $\\rho=\\frac{cov[x,y]}{\\sigma_x \\sigma_y}$, pero la matriz de covarianza se puede escibir como $E[x,y]-E[x]E[y]=V_{x,y}$, entonces $\\rho=\\frac{V_{x,y}}{\\sigma_x\\sigma_y}$ y \n",
    "\n",
    "$f(x;\\mu,V)=\\frac{1}{(2\\pi)^{N/2}|V|}e^{-\\frac{1}{2}\\left((x-\\mu)^T V^{-1}(x-\\mu)\\right)}$\n",
    "\n",
    "### Función de error\n",
    "\n",
    "Probabilidad de que una variable aleatoria caiga dentro del rango de $1\\sigma$\n",
    "\n",
    "$erf(\\gamma)=\\frac{2}{\\sqrt{\\pi}}\\int_0^\\gamma e^{-x^2}dx=1= 68\\%$\n",
    "\n",
    "Para considerar un nuevo descubrimineto como correcto tiene que estar dento de $5\\sigma$ que es un p-valor=$5.7 x10^{-7}$"
   ]
  },
  {
   "cell_type": "code",
   "execution_count": null,
   "metadata": {},
   "outputs": [],
   "source": [
    "TCanvas * c1= new TCanvas(\"c1\", \"pdf\",5,5,800,500); \n",
    "TH1F * h1 = new TH1F(\"Distribucion Gaussiana\", \";x;f(x)\", 100, -3. ,3. );\n",
    "r3 = new TRandom3();\n",
    "for (int i = 0; i < 1000000; ++i)\n",
    "    h1->Fill(r3->Gaus());\n",
    "h1->Fit(\"gaus\");\n",
    "gStyle->SetOptFit();\n",
    "h1->Draw();\n",
    "c1->Draw();"
   ]
  },
  {
   "cell_type": "markdown",
   "metadata": {},
   "source": [
    "## Distribución de Poisson\n",
    "\n",
    "$f(n;\\nu)=\\frac{\\nu^n}{n!}e^{-\\nu}$ \n",
    "\n",
    "1. $n$ discreto; $\\nu$ continua\n",
    "2. Describe la probabilidad de que $n$ eventos sucedan, cuando la probabilidad de expectación es $\\nu$\n",
    "3. Su desviación estándar es $\\sigma=\\sqrt{\\nu}$\n",
    "4. Funciona mejor mientras mas grande sea $n$"
   ]
  },
  {
   "cell_type": "code",
   "execution_count": null,
   "metadata": {},
   "outputs": [],
   "source": [
    "TCanvas * c2= new TCanvas(\"c2\", \"pdf\",5,5,800,500); \n",
    "TH1F * h2 = new TH1F(\"Distribucion de Poisson\", \";x;f(x)\", 100, 0. ,20. );\n",
    "for (int i = 0; i < 100000; ++i)\n",
    "    h2->Fill(r3->Poisson(10));\n",
    "\n",
    "TF1* fit2 = new TF1(\"fit2\",\"[0] * TMath::Poisson(x, [1])\",0,20);\n",
    "gStyle->SetOptFit();\n",
    "fit2->SetParameters(h2->GetMaximum(),h2->GetMean());\n",
    "h2->Fit(\"fit2\", \"R\");\n",
    "h2->Draw();\n",
    "c2->Draw();"
   ]
  },
  {
   "cell_type": "markdown",
   "metadata": {},
   "source": [
    "## Distribución binomial\n",
    "$f(r;N,p) = \\frac{N!}{r!(N-r)!}p^r(1-p)^{n-r}$\n",
    "\n",
    "1. $\\binom{N}{r}=\\frac{N!}{r!(N-r)!}$ combinaciones de N en r; $q=1-p$\n",
    "2. Probabilidad de tener $r$ casos acertados de $N$ eventos, dada una probabilidad intrínseca de $p$\n",
    "3. Desviación estrndar $\\sigma=\\sqrt{Npq}$\n",
    "4. Cuando $p$ es muy grande, se aproxima a la distribución de Poisson\n",
    "5. Cuando $p$ es muy grande y $N$ también es muy grande, se aproxima a una distribución gaussiana\n",
    "6. Si existen varias proabilidades intrínsecas $p_n={p_1,p_2,...p_n}$ entonce la distibución binomial es:\n",
    "\n",
    "$f(r_i;N,p_i)=\\frac{N!}{\\prod r_i!}\\prod p_i^{r_i}$"
   ]
  },
  {
   "cell_type": "code",
   "execution_count": null,
   "metadata": {},
   "outputs": [],
   "source": [
    "TCanvas * c3= new TCanvas(\"c3\", \"pdf\",5,5,800,500); \n",
    "c3->SetLogy();\n",
    "TH1F * h3 = new TH1F(\"Distribucion Binomial\", \";x;f(x)\", 100, 0. ,100. );\n",
    "for (int i = 0; i < 1000; ++i)\n",
    "    h3->Fill(r3->Binomial(100,.01));\n",
    "    \n",
    "TF1 *f3 = new TF1(\"f3\", \"[0]*TMath::Binomial([1], x) * ([2])^x * (1-[2])^([1]-x)\", 0, 100);\n",
    "gStyle->SetOptFit();\n",
    "f3->SetParameter(0, 10000);\n",
    "f3->SetParameter(1, 2000);\n",
    "f3->SetParameter(2, 0.01);\n",
    "f3->SetNpx(100);\n",
    "h3->Fit(\"f3\", \"R\");\n",
    "h3->Draw();\n",
    "c3->Draw();"
   ]
  },
  {
   "cell_type": "markdown",
   "metadata": {},
   "source": [
    "##  Distribución de Breit-Wigner (Cauchy)\n",
    "\n",
    "$f(E;M,\\Gamma) =\\frac{1}{2\\pi} \\frac{\\Gamma}{(E-M)^2+(\\Gamma/2)^2}$\n",
    "\n",
    "1. Variación de la energía de la sección eficaz de producida en la formación de un estado con masa $M$ y anchura $\\Gamma$ \n",
    "2. Si $x=\\frac{E-M}{\\Gamma/2}$ entonces $f(x)=\\frac{1}{\\pi}\\frac{1}{1+x^2}$ (Cauchy)\n"
   ]
  },
  {
   "cell_type": "code",
   "execution_count": null,
   "metadata": {},
   "outputs": [],
   "source": [
    "TCanvas * c4= new TCanvas(\"c4\", \"pdf\",5,5,800,500); \n",
    "TH1F * h4 = new TH1F(\"Distribucion de BW\", \";x;f(x)\", 100, -100 ,100. );\n",
    "for (int i = 0; i < 1000; ++i)\n",
    "    h4->Fill(r3->BreitWigner(0,25));\n",
    "\n",
    "//TF1* fit4 = new TF1(\"fit4\",\"TMath::BreitWigner(x[0])\",-100,100);\n",
    "gStyle->SetOptFit();\n",
    "h4->Draw();\n",
    "c4->Draw();"
   ]
  },
  {
   "cell_type": "markdown",
   "metadata": {},
   "source": [
    "## Distribución de Landau\n",
    "$f(\\lambda)=\\frac{1}{\\pi}\\int_0^\\infty e^{-u ln u -\\lambda u} \\sin(\\pi u)du$\n",
    "\n",
    "1. Distribución de probabilidad de la pérdida de energía de una partícula cargada en presencia de un campo electromagnético.\n",
    "2. $\\Delta$ es la energía pérdida a partir de una energía inicial $\\Delta_0$\n",
    "3. El pico de la distribución se encuentra en $\\lambda=\\Delta-\\Delta_0/\\xi$, donde $\\xi$ es una escala que depende del material."
   ]
  },
  {
   "cell_type": "code",
   "execution_count": null,
   "metadata": {},
   "outputs": [],
   "source": [
    "TCanvas * c5= new TCanvas(\"c5\", \"pdf\",5,5,800,500); \n",
    "c5->SetLogy();\n",
    "TH1F * h5 = new TH1F(\"Distribucion de Landau\", \";x;f(x)\", 100, 0. ,100. );\n",
    "for (int i = 0; i < 10000; ++i)\n",
    "    h5->Fill(r3->Landau());\n",
    "h5->Fit(\"landau\");\n",
    "gStyle->SetOptFit();\n",
    "h5->Draw();\n",
    "c5->Draw();"
   ]
  },
  {
   "cell_type": "markdown",
   "metadata": {},
   "source": [
    "## Distribución binomial negativa\n",
    "$f(r;k,p) = \\frac{(k+r-1)!}{r!(k-1)!}q^k p^r$\n",
    "\n",
    "1. Probabilidad de que $r$ casos acertados en $N$ permutaciones, antes de tener $k$ casos erroneos\n",
    "2. Permutaciones: $\\binom{-k}{r}=(-1)\\frac{(k+r-1)!}{r!(k-1)!}$\n",
    "3. Casoos erroneos $q=1-p$\n",
    "4. Valor medio $\\nu=\\frac{p}{q}k$ y la varianza $V=\\frac{p}{q^2}$\n",
    "5. Para $p$ muy grande, $k$ muy pequeña y $\\mu=pk$ la distribución binomial negativa se aproxima a una distribución de Poisson"
   ]
  },
  {
   "cell_type": "code",
   "execution_count": null,
   "metadata": {
    "scrolled": true
   },
   "outputs": [],
   "source": [
    "TCanvas * c6= new TCanvas(\"c6\", \"pdf\",5,5,800,500); \n",
    "//c6->SetLogy();\n",
    "TFile f (\"nbd_test.root\"); \n",
    "\n",
    "ntuple1->Draw(\"N41 >> h1\",\"nch>=320 && nch<=430\");\n",
    "TF1* fit6 = new TF1(\"fit6\",\"[0]*(TMath::Gamma(x+[1])/(TMath::Gamma(x+1)*TMath::Gamma([1])))*(TMath::Power(([2]/[1]),x))*(TMath::Power((1+([2]/[1]))\\\n",
    ",-x-[1]))\");\n",
    "//TF1* fit6 = new TF1(\"fit2\",\"[0]*(TMath::Gamma(x+[1])/(TMath::Gamma(x+1)*TMath::Gamma([1])))*(TMath::Power(([2]/[1]),x))*(TMath::Pow\\\n",
    "er((1+([2]/[1])),-x-[1]))\");\n",
    "fit6->SetParameter(0,1);// normalization constant                                                                                  \n",
    "fit6->SetParameter(1,20); // k parameter                                                                                            \n",
    "fit6->SetParameter(2,32.);  // mean multiplicity                                                                                    \n",
    "h1->Fit(\"fit6\",\"R\");\n",
    "c6->Draw();"
   ]
  },
  {
   "cell_type": "markdown",
   "metadata": {},
   "source": [
    "## Distribución de Student\n",
    "\n",
    "$f(t;n)=\\frac{\\Gamma(\\frac{n+1}{2})}{\\sqrt{n\\pi}\\Gamma(\\frac{n}{2})}(1+\\frac{t^2}{2})^{\\frac{n+1}{2}}$\n",
    "\n",
    "1. $t=\\frac{x-\\mu}{\\sigma}$ \n",
    "2. Para n muy grande la distribución de Studen se aproxima a una distribución gaussiana\n",
    "3. Para n muy chicas, el ancho de la districución aumenta"
   ]
  },
  {
   "cell_type": "code",
   "execution_count": null,
   "metadata": {},
   "outputs": [],
   "source": [
    "// file /root-6.20.06/tutorials/math/tStudent.C\n",
    "int n=100;\n",
    "   double a=-5.;\n",
    "   double b=5.;\n",
    "   //double r  = 3;\n",
    "   TF1* pdf = new TF1(\"pdf\", \"ROOT::Math::tdistribution_pdf(x,3.0)\", a,b);\n",
    "   TF1* cum = new TF1(\"cum\", \"ROOT::Math::tdistribution_cdf(x,3.0)\", a,b);\n",
    " TH1D* quant = new TH1D(\"quant\", \"\", 9, 0, 0.9);\n",
    "\n",
    "   for(int i=1; i < 10; i++)\n",
    "      quant->Fill((i-0.5)/10.0, ROOT::Math::tdistribution_quantile((1.0*i)/10, 3.0 ) );\n",
    "\n",
    "   double xx[10];\n",
    "   xx[0] = -1.5;\n",
    "   for(int i=1; i<9; i++)\n",
    "      xx[i]= quant->GetBinContent(i);\n",
    "   xx[9] = 1.5;\n",
    "   TH1D* pdfq[10];\n",
    "   //int nbin = n/10.0;\n",
    "   for(int i=0; i < 9; i++) {\n",
    "      int nbin = n * (xx[i+1]-xx[i])/3.0 + 1.0;\n",
    "      TString name = \"pdf\";\n",
    "      name += i;\n",
    "      pdfq[i]= new TH1D(name, \"\", nbin,xx[i],xx[i+1] );\n",
    "      for(int j=1; j<nbin; j++) {\n",
    "         double x= j*(xx[i+1]-xx[i])/nbin + xx[i];\n",
    "         pdfq[i]->SetBinContent(j, ROOT::Math::tdistribution_pdf(x,3));\n",
    "      }\n",
    "   }\n",
    " TCanvas *Canvas = new TCanvas(\"DistCanvas\", \"Student Distribution graphs\", 10, 10, 800, 700);\n",
    "   pdf->SetTitle(\"Student t distribution function\");\n",
    "   cum->SetTitle(\"Cumulative for Student t\");\n",
    "   quant->SetTitle(\"10-quantiles  for Student t\");\n",
    "   Canvas->Divide(2, 2);\n",
    "   Canvas->cd(1);\n",
    "   pdf->SetLineWidth(2);\n",
    "   pdf->DrawCopy();\n",
    "   Canvas->cd(2);\n",
    "   cum->SetLineWidth(2);\n",
    "   cum->SetLineColor(kRed);\n",
    "   cum->Draw();\n",
    "   Canvas->cd(3);\n",
    "   quant->Draw();\n",
    "   quant->SetLineWidth(2);\n",
    "   quant->SetLineColor(kBlue);\n",
    "   quant->SetStats(0);\n",
    "   Canvas->cd(4);\n",
    "   pdfq[0]->SetTitle(\"Student t & its quantiles\");\n",
    "   pdf->SetTitle(\"\");\n",
    "   pdf->Draw();\n",
    "   //pdfq[0]->SetAxisRange(-1.5, 0, 1.5,1.0);\n",
    "   pdfq[0]->SetTitle(\"Student t & its quantiles\");\n",
    "   for(int i=0; i < 9; i++) {\n",
    "      pdfq[i]->SetStats(0);\n",
    "      pdfq[i]->SetFillColor(i+1);\n",
    "      pdfq[i]->Draw(\"same\");\n",
    "   }\n",
    "   Canvas->Modified();\n",
    "   Canvas->cd();\n",
    "   Canvas->Draw();"
   ]
  },
  {
   "cell_type": "markdown",
   "metadata": {},
   "source": [
    "## Distribución $\\chi^2$\n",
    "\n",
    "La desviación cuadrática media de una función $g(x)$ y $n$ mediciones de ${(x_i,y_i)}$ es:\n",
    "\n",
    "$\\chi^2=\\sum_{i=1}^{n}\\left(\\frac{\\gamma_i - g(x_i)}{\\sigma_i}\\right)^2$\n",
    "\n",
    "donde $\\sigma_i$ es el error gaussiano de la i-ésima medición.\n",
    "\n",
    "Cada término contribuye al error, por lo que $E[f(\\chi^2;n)]=n$ donde $\\sigma=\\sqrt{2n}$ y $f(\\chi^2;n)$ es la distribución $\\chi^2$:\n",
    "\n",
    "$f(\\chi^2;n)=\\frac{2^{-n/2}}{\\Gamma(n/2)}\\chi^{n-2}e^{-\\chi^2/2}$\n",
    "\n",
    "1. $\\chi^2$ nos dice si las mediciones son comparables con el modelo\n",
    "2. Grados de libertad: n-$\\theta$ donde $\\theta$ es el número de parámetros del ajuste\n",
    "\n"
   ]
  },
  {
   "cell_type": "code",
   "execution_count": 1,
   "metadata": {},
   "outputs": [],
   "source": [
    "// file /root-6.20.06/tutorials/math/chi2test.C\n",
    "TCanvas * chi2test(Float_t w=0)\n",
    "{\n",
    "   // Note: The parameter w is used to produce the 2 pictures in\n",
    "   // the TH1::Chi2Test method. The 1st picture is produced with\n",
    "   // w=0 and the 2nd with w=17 (see TH1::Chi2Test() help).\n",
    "\n",
    "   // Define Histograms.\n",
    "   const Int_t n = 20;\n",
    "\n",
    "   TH1D *h1 = new TH1D(\"h1\", \"h1\", n, 4, 16);\n",
    "   TH1D *h2 = new TH1D(\"h2\", \"h2\", n, 4, 16);\n",
    "\n",
    "   h1->SetTitle(\"Unweighted Histogram\");\n",
    "   h2->SetTitle(\"Weighted Histogram\");\n",
    "\n",
    "   h1->SetBinContent(1, 0);\n",
    "   h1->SetBinContent(2, 1);\n",
    "   h1->SetBinContent(3, 0);\n",
    "   h1->SetBinContent(4, 1);\n",
    "   h1->SetBinContent(5, 1);\n",
    "   h1->SetBinContent(6, 6);\n",
    "   h1->SetBinContent(7, 7);\n",
    "   h1->SetBinContent(8, 2);\n",
    "   h1->SetBinContent(9, 22);\n",
    "   h1->SetBinContent(10, 30);\n",
    "   h1->SetBinContent(11, 27);\n",
    "   h1->SetBinContent(12, 20);\n",
    "   h1->SetBinContent(13, 13);\n",
    "   h1->SetBinContent(14, 9);\n",
    "   h1->SetBinContent(15, 9 + w);\n",
    "   h1->SetBinContent(16, 13);\n",
    "   h1->SetBinContent(17, 19);\n",
    "   h1->SetBinContent(18, 11);\n",
    "   h1->SetBinContent(19, 9);\n",
    "   h1->SetBinContent(20, 0);\n",
    "\n",
    "   h2->SetBinContent(1, 2.20173025 );\n",
    "   h2->SetBinContent(2, 3.30143857);\n",
    "   h2->SetBinContent(3, 2.5892849);\n",
    "   h2->SetBinContent(4, 2.99990201);\n",
    "   h2->SetBinContent(5, 4.92877054);\n",
    "   h2->SetBinContent(6, 8.33036995);\n",
    "   h2->SetBinContent(7, 6.95084763);\n",
    "   h2->SetBinContent(8, 15.206357);\n",
    "   h2->SetBinContent(9, 23.9236012);\n",
    "   h2->SetBinContent(10, 44.3848114);\n",
    "   h2->SetBinContent(11, 49.4465599);\n",
    "   h2->SetBinContent(12, 25.1868858);\n",
    "   h2->SetBinContent(13, 16.3129692);\n",
    "   h2->SetBinContent(14, 13.0289612);\n",
    "   h2->SetBinContent(15, 16.7857609);\n",
    "   h2->SetBinContent(16, 22.9914703);\n",
    "   h2->SetBinContent(17, 30.5279255);\n",
    "   h2->SetBinContent(18, 12.5252123);\n",
    "   h2->SetBinContent(19, 16.4104557);\n",
    "   h2->SetBinContent(20, 7.86067867);\n",
    "   h2->SetBinError(1, 0.38974303 );\n",
    "   h2->SetBinError(2, 0.536510944);\n",
    "   h2->SetBinError(3, 0.529702604);\n",
    "   h2->SetBinError(4, 0.642001867);\n",
    "   h2->SetBinError(5, 0.969341516);\n",
    "   h2->SetBinError(6, 1.47611344);\n",
    "   h2->SetBinError(7, 1.69797957);\n",
    "   h2->SetBinError(8, 3.28577447);\n",
    "   h2->SetBinError(9, 5.40784931);\n",
    "   h2->SetBinError(10, 9.10106468);\n",
    "   h2->SetBinError(11, 9.73541737);\n",
    "   h2->SetBinError(12, 5.55019951);\n",
    "   h2->SetBinError(13, 3.57914758);\n",
    "   h2->SetBinError(14, 2.77877331);\n",
    "   h2->SetBinError(15, 3.23697519);\n",
    "   h2->SetBinError(16, 4.3608489);\n",
    "   h2->SetBinError(17, 5.77172089);\n",
    "   h2->SetBinError(18, 3.38666105);\n",
    "   h2->SetBinError(19, 2.98861837);\n",
    "   h2->SetBinError(20, 1.58402085);\n",
    "\n",
    "   h1->SetEntries(217);\n",
    "   h2->SetEntries(500);\n",
    "\n",
    "   //apply the chi2 test and retrieve the residuals\n",
    "   Double_t res[n], x[20];\n",
    "   h1->Chi2Test(h2,\"UW P\",res);\n",
    "\n",
    "   //Graph for Residuals\n",
    "   for (Int_t i=0; i<n; i++) x[i]= 4.+i*12./20.+12./40.;\n",
    "   TGraph *resgr = new TGraph(n,x,res);\n",
    "   resgr->GetXaxis()->SetRangeUser(4,16);\n",
    "   resgr->GetYaxis()->SetRangeUser(-3.5,3.5);\n",
    "   resgr->GetYaxis()->SetTitle(\"Normalized Residuals\");\n",
    "   resgr->SetMarkerStyle(21);\n",
    "   resgr->SetMarkerColor(2);\n",
    "   resgr->SetMarkerSize(.9);\n",
    "   resgr->SetTitle(\"Normalized Residuals\");\n",
    "\n",
    "   //Quantile-Quantile plot\n",
    "   TF1 *f = new TF1(\"f\",\"TMath::Gaus(x,0,1)\",-10,10);\n",
    "   TGraphQQ *qqplot = new TGraphQQ(n,res,f);\n",
    "   qqplot->SetMarkerStyle(20);\n",
    "   qqplot->SetMarkerColor(2);\n",
    "   qqplot->SetMarkerSize(.9);\n",
    "   qqplot->SetTitle(\"Q-Q plot of Normalized Residuals\");\n",
    "\n",
    "   //create Canvas\n",
    "   TCanvas *c1 = new TCanvas(\"c1\",\"Chistat Plot\",10,10,700,600);\n",
    "   c1->Divide(2,2);\n",
    "\n",
    "   // Draw Histogramms and Graphs\n",
    "   c1->cd(1);\n",
    "   h1->SetMarkerColor(4);\n",
    "   h1->SetMarkerStyle(20);\n",
    "\n",
    "   h1->Draw(\"E\");\n",
    "\n",
    "   c1->cd(2);\n",
    "   h2->Draw(\"\");\n",
    "   h2->SetMarkerColor(4);\n",
    "   h2->SetMarkerStyle(20);\n",
    "\n",
    "   c1->cd(3);\n",
    "   gPad->SetGridy();\n",
    "   resgr->Draw(\"APL\");\n",
    "\n",
    "   c1->cd(4);\n",
    "   qqplot->Draw(\"AP\");\n",
    "    \n",
    "    c1->cd(0);\n",
    "    c1->Draw();\n",
    "    c1->Update();\n",
    "   return c1;\n",
    "\n",
    "       \n",
    "}\n"
   ]
  },
  {
   "cell_type": "code",
   "execution_count": 2,
   "metadata": {},
   "outputs": [
    {
     "data": {
      "image/png": "[encoded data removed]",
      "text/plain": [
       "<IPython.core.display.Image object>"
      ]
     },
     "metadata": {},
     "output_type": "display_data"
    },
    {
     "name": "stdout",
     "output_type": "stream",
     "text": [
      "Chi2 = 21.085124, Prob = 0.332116, NDF = 19, igood = 1\n",
      "(TCanvas *) 0x7fa3708b0540\n"
     ]
    },
    {
     "name": "stderr",
     "output_type": "stream",
     "text": [
      "Info in <TH1D::Chi2TestX>: There is a bin in h1 with less than 1 event.\n",
      "\n"
     ]
    }
   ],
   "source": [
    "chi2test()"
   ]
  },
  {
   "cell_type": "code",
   "execution_count": 3,
   "metadata": {},
   "outputs": [],
   "source": [
    "#include <cmath>\n",
    "#include <limits>\n",
    "#include <random>\n",
    "\n",
    "double generateGaussianNoise(double mu, double sigma)\n",
    "{\n",
    "\tconstexpr double epsilon = std::numeric_limits<double>::epsilon();\n",
    "\tconstexpr double two_pi = 2.0 * M_PI;\n",
    "\n",
    "        static std::mt19937 rng(std::random_device{}()); // Standard mersenne_twister_engine seeded with rd()\n",
    "        static std::uniform_real_distribution<> runif(0.0, 1.0);\n",
    "\n",
    "\tdouble u1, u2;\n",
    "\tdo\n",
    "\t{\n",
    "\t\tu1 = runif(rng);\n",
    "\t\tu2 = runif(rng);\n",
    "\t}\n",
    "\twhile (u1 <= epsilon);\n",
    "\n",
    "\tauto z0 = sqrt(-2.0 * log(u1)) * cos(two_pi * u2);\n",
    "\t// auto z1 = sqrt(-2.0 * log(u1)) * sin(two_pi * u2); // not used here!\n",
    "\n",
    "\treturn z0 * sigma + mu;\n",
    "}"
   ]
  },
  {
   "cell_type": "code",
   "execution_count": 4,
   "metadata": {},
   "outputs": [
    {
     "name": "stdout",
     "output_type": "stream",
     "text": [
      "(double) -4.9328862\n"
     ]
    }
   ],
   "source": [
    "generateGaussianNoise(0,10)"
   ]
  },
  {
   "cell_type": "code",
   "execution_count": null,
   "metadata": {},
   "outputs": [],
   "source": []
  }
 ],
 "metadata": {
  "kernelspec": {
   "display_name": "ROOT C++",
   "language": "c++",
   "name": "root"
  },
  "language_info": {
   "codemirror_mode": "text/x-c++src",
   "file_extension": ".C",
   "mimetype": " text/x-c++src",
   "name": "c++"
  }
 },
 "nbformat": 4,
 "nbformat_minor": 4
}
