{
 "cells": [
  {
   "attachments": {},
   "cell_type": "markdown",
   "metadata": {},
   "source": [
    "# CONDA\n",
    "\n",
    "Es un gestor de paquetes que permite listar, instalar y desinstalar en un entorno de Python. \n",
    "\n",
    "Se puede acceder a ella en:\n",
    "\n",
    "**Windows:** en la barra de aplicaciones de windows buscar el término Anaconda Prompt y ejecutar la aplicación.\n",
    "\n",
    "**MacOS y Linux:** hay que abrir una consola de comandos del sistema."
   ]
  },
  {
   "attachments": {},
   "cell_type": "markdown",
   "metadata": {},
   "source": [
    "# ANACONDA\n",
    "\n",
    "Instalación anacondaconda\n",
    "\n",
    "https://docs.anaconda.com/free/\n",
    "\n",
    "\n",
    "1. Descargar el instalador de miniconda: \n",
    "\n",
    "3. Download the Anaconda installer: https://www.anaconda.com/download\n",
    "\n",
    "4. En el menu de buscqueda del sistema: **Anaconda prompt** \n"
   ]
  },
  {
   "attachments": {},
   "cell_type": "markdown",
   "metadata": {},
   "source": [
    "# CONDA CHEAT SHEET\n",
    "\n",
    "https://docs.conda.io/projects/conda/en/4.6.0/_downloads/52a95608c49671267e40c689e0bc00ca/conda-cheatsheet.pdf\n",
    "\n",
    "~~~\n",
    "C:\\ conda --version\n",
    "\n",
    "conda 22.11.1\n",
    "~~~"
   ]
  },
  {
   "attachments": {},
   "cell_type": "markdown",
   "metadata": {},
   "source": [
    "# conda-forge\n",
    "\n",
    "Repositorio de git-hub con paquetes de conda\n",
    "\n",
    "~~~\n",
    "C:\\ conda config --add channels conda-forge\n",
    "C:\\ conda update --all\n",
    "~~~\n"
   ]
  },
  {
   "attachments": {},
   "cell_type": "markdown",
   "metadata": {},
   "source": [
    "# Ambientes de trabajo\n",
    "\n",
    "Se pueden crear o instalar otros ambientes con otras versiones de python o con paquetes especificos para cada proyecto. \n",
    "\n",
    "\n",
    "~~~\n",
    "C:\\ conda env list\n",
    "\n",
    "base                     C:\\Users\\masterblaster\\anaconda3\n",
    "pyhep                    C:\\Users\\masterblaster\\anaconda3\\envs\\pyhep\n",
    "rootcern                 C:\\Users\\masterblaster\\anaconda3\\envs\\rootcern\n",
    "~~~\n",
    "\n",
    "Por ejemplo: Crear un ambiente con scikit-hep:\n",
    "\n",
    "~~~\n",
    "C:\\ conda create -n pyhep \n",
    "\n",
    "# To activate this environment, use\n",
    "#\n",
    "#     $ conda activate pyhep\n",
    "#\n",
    "# To deactivate an active environment, use\n",
    "#\n",
    "#     $ conda deactivate\n",
    "\n",
    "Retrieving notices: ...working... done"
   ]
  },
  {
   "attachments": {},
   "cell_type": "markdown",
   "metadata": {},
   "source": [
    "Para eliminar un entorno de conda tenemos que desactivarlo primero si es que estamos dentro:\n",
    "\n",
    "~~~\n",
    "C:\\ conda deactivate\n",
    "~~~\n",
    "\n",
    "y luego lo eliminamos con:\n",
    "\n",
    "~~~\n",
    "C:\\ conda remove --name py310 --all\n",
    "~~~\n"
   ]
  },
  {
   "attachments": {},
   "cell_type": "markdown",
   "metadata": {},
   "source": [
    "# Instalar paquetes en pyhep\n",
    "\n",
    "~~~\n",
    "C:\\ conda activate pyhep\n",
    "C:\\conda list  # ver lista de paquetes ya instalados\n",
    "C:\\ conda search panda #buscar alguno en especial\n",
    "C:\\ conda install python pandas numpy matplotlib seaborn scikit-learn sympy\n",
    "C:\\ conda install -c conda-forge uproot akward scikit-hep \n",
    "~~~\n",
    "\n",
    "o se puden installar con el archivo  requirements.txt\n",
    "\n",
    "matplotlib>=2.2\n",
    "\n",
    "numpy>=1.15.0, <1.21.0\n",
    "\n",
    "pandas\n",
    "\n",
    "pytest==4.0.1\n",
    "\n",
    "~~~\n",
    "C:\\ conda install --file requirements.txt\n",
    "~~~\n",
    "\n",
    "Se pueden exportar las dependecias den entorno en formato yml\n",
    "\n",
    "~~~\n",
    "C:\\ conda env export > environment.yml\n",
    "~~~\n",
    "\n",
    "y crear otro ambiente con las mismas dependencias\n",
    "\n",
    "~~~\n",
    "C:\\ conda env create -n prueba -f environment.yml\n",
    "~~~\n",
    "\n",
    "o clonar a otro entorno\n",
    "\n",
    "~~~\n",
    "C:\\ conda -n prueba --clone py310 \n",
    "~~~\n",
    "\n",
    "\n",
    "\n"
   ]
  },
  {
   "cell_type": "markdown",
   "metadata": {},
   "source": [
    "# Instalar visual studio code \n",
    "\n",
    "https://code.visualstudio.com/download\n",
    "\n",
    "\n",
    "Abrir desde **Anaconda prompt**\n",
    "\n",
    "C:\\ code\n",
    "\n",
    "\n"
   ]
  }
 ],
 "metadata": {
  "kernelspec": {
   "display_name": "Python 3.10.6 ('py310')",
   "language": "python",
   "name": "python3"
  },
  "language_info": {
   "codemirror_mode": {
    "name": "ipython",
    "version": 3
   },
   "file_extension": ".py",
   "mimetype": "text/x-python",
   "name": "python",
   "nbconvert_exporter": "python",
   "pygments_lexer": "ipython3",
   "version": "3.12.2"
  },
  "orig_nbformat": 4,
  "vscode": {
   "interpreter": {
    "hash": "819112c24f0d6b36d35f6c5653e120a0c93a25f82bf2809eaf9b65613f02e80c"
   }
  }
 },
 "nbformat": 4,
 "nbformat_minor": 2
}
